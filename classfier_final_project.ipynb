{
  "nbformat": 4,
  "nbformat_minor": 0,
  "metadata": {
    "kernelspec": {
      "name": "python3",
      "display_name": "Python 3"
    },
    "language_info": {
      "codemirror_mode": {
        "name": "ipython",
        "version": 3
      },
      "file_extension": ".py",
      "mimetype": "text/x-python",
      "name": "python",
      "nbconvert_exporter": "python",
      "pygments_lexer": "ipython3",
      "version": "3.7.1"
    },
    "colab": {
      "name": "「「「classfier_2.ipynb」的副本」的副本」的副本",
      "provenance": [],
      "collapsed_sections": [],
      "toc_visible": true,
      "machine_shape": "hm"
    },
    "accelerator": "GPU"
  },
  "cells": [
    {
      "cell_type": "code",
      "metadata": {
        "colab": {
          "base_uri": "https://localhost:8080/"
        },
        "id": "bBa9YzCK76kw",
        "outputId": "38d07432-a591-42f6-b736-6174648b5aac"
      },
      "source": [
        "from google.colab import drive #掛載雲端硬碟\n",
        "drive.mount('/content/drive')  "
      ],
      "execution_count": 1,
      "outputs": [
        {
          "output_type": "stream",
          "text": [
            "Mounted at /content/drive\n"
          ],
          "name": "stdout"
        }
      ]
    },
    {
      "cell_type": "markdown",
      "metadata": {
        "_uuid": "e87c1f259b32d4b67c09cfbf51ad39abd5c55904",
        "id": "2a4eKf6JxBhn"
      },
      "source": [
        "## This Notebook Demonstrates:\n",
        "1. Reading the data in python, preparing it for analysis, and adjusting the labels to contain underscores\n",
        "2. The code that simplfies a Raw drawing to the Simplified drawing\n",
        "3. How to make a submission file with predictions in the required format"
      ]
    },
    {
      "cell_type": "markdown",
      "metadata": {
        "id": "RLmq1mD_Q708"
      },
      "source": [
        ""
      ]
    },
    {
      "cell_type": "code",
      "metadata": {
        "id": "ym22E7ouAbuE"
      },
      "source": [
        "import os   #指定目錄位置\n",
        "os.chdir(\"drive/MyDrive/Colab Notebooks\") # to where your code and \"input_my\" are"
      ],
      "execution_count": 2,
      "outputs": []
    },
    {
      "cell_type": "code",
      "metadata": {
        "id": "ru-itiFqSuZO",
        "colab": {
          "base_uri": "https://localhost:8080/"
        },
        "outputId": "b9f0eed4-ef85-4b38-cc56-91918b12e13b"
      },
      "source": [
        "import numpy as np #確認檔案\n",
        "import pandas as pd \n",
        "\n",
        "print(os.listdir(\"./input_my\")) #####\n",
        "print(os.listdir(\"./input_my/train\")) #####"
      ],
      "execution_count": 3,
      "outputs": [
        {
          "output_type": "stream",
          "text": [
            "['test_ans.csv', 'demo.csv', 'res.csv', 'train_raw', 'train', 'exam.csv']\n",
            "['rabbit.csv', 'shoe.csv', 'scissors.csv', 'star.csv', 'sword.csv', 'The_Eiffel_Tower.csv', 'tree.csv', 'airplane.csv', 'bee.csv', 'bicycle.csv', 'butterfly.csv', 'cake.csv', 'bird.csv', 'cat.csv', 'camera.csv', 'chair.csv', 'clock.csv', 'computer.csv', 'diamond.csv', 'door.csv', 'ear.csv', 'hamburger.csv', 'guitar.csv', 'hat.csv', 'hammer.csv', 'hand.csv', 'ladder.csv', 'lion.csv', 'leaf.csv', 'pencil.csv']\n"
          ],
          "name": "stdout"
        }
      ]
    },
    {
      "cell_type": "code",
      "metadata": {
        "_cell_guid": "79c7e3d0-c299-4dcb-8224-4455121ee9b0",
        "_uuid": "d629ff2d2480ee46fbb7e2d37f6b5fab8052498a",
        "id": "eiApvmxjxBh5"
      },
      "source": [
        "import warnings   #引入其他套件\n",
        "warnings.filterwarnings('ignore') # to suppress some matplotlib deprecation warnings\n",
        "\n",
        "import ast\n",
        "import math\n",
        "\n",
        "import matplotlib.pyplot as plt\n",
        "import matplotlib.style as style\n",
        "\n",
        "%matplotlib inline\n",
        "%config InlineBackend.figure_format = 'retina'\n"
      ],
      "execution_count": 4,
      "outputs": []
    },
    {
      "cell_type": "markdown",
      "metadata": {
        "id": "4oKdQTpwxBjI"
      },
      "source": [
        "## Model training"
      ]
    },
    {
      "cell_type": "code",
      "metadata": {
        "id": "z5qkgq_pxBjS",
        "colab": {
          "base_uri": "https://localhost:8080/"
        },
        "outputId": "3978ecce-051e-43ee-8455-87af91cb5bdc"
      },
      "source": [
        "\n",
        "import os #引入其他套件\n",
        "# os.environ['TF_CPP_MIN_LOG_LEVEL'] = '2'\n",
        "# os.environ['KMP_DUPLICATE_LIB_OK']='True'\n",
        "from glob import glob\n",
        "import re\n",
        "import ast\n",
        "import numpy as np \n",
        "import pandas as pd\n",
        "from PIL import Image, ImageDraw \n",
        "from tqdm import tqdm\n",
        "!python -m pip install dask[bag]\n",
        "from dask import bag\n",
        "\n",
        "import tensorflow as tf\n",
        "from tensorflow import keras\n",
        "from tensorflow.keras.models import Sequential\n",
        "from tensorflow.keras.layers import Dense, Dropout, Flatten\n",
        "from tensorflow.keras.layers import Conv2D, MaxPooling2D\n",
        "from tensorflow.keras.metrics import top_k_categorical_accuracy\n",
        "from tensorflow.keras.callbacks import ModelCheckpoint, ReduceLROnPlateau, EarlyStopping"
      ],
      "execution_count": 5,
      "outputs": [
        {
          "output_type": "stream",
          "text": [
            "Requirement already satisfied: dask[bag] in /usr/local/lib/python3.6/dist-packages (2.12.0)\n",
            "Collecting partd>=0.3.10; extra == \"bag\"\n",
            "  Downloading https://files.pythonhosted.org/packages/44/e1/68dbe731c9c067655bff1eca5b7d40c20ca4b23fd5ec9f3d17e201a6f36b/partd-1.1.0-py3-none-any.whl\n",
            "Collecting fsspec>=0.6.0; extra == \"bag\"\n",
            "\u001b[?25l  Downloading https://files.pythonhosted.org/packages/ec/80/72ac0982cc833945fada4b76c52f0f65435ba4d53bc9317d1c70b5f7e7d5/fsspec-0.8.5-py3-none-any.whl (98kB)\n",
            "\u001b[K     |████████████████████████████████| 102kB 5.2MB/s \n",
            "\u001b[?25hRequirement already satisfied: cloudpickle>=0.2.1; extra == \"bag\" in /usr/local/lib/python3.6/dist-packages (from dask[bag]) (1.3.0)\n",
            "Requirement already satisfied: toolz>=0.7.3; extra == \"bag\" in /usr/local/lib/python3.6/dist-packages (from dask[bag]) (0.11.1)\n",
            "Collecting locket\n",
            "  Downloading https://files.pythonhosted.org/packages/d0/22/3c0f97614e0be8386542facb3a7dcfc2584f7b83608c02333bced641281c/locket-0.2.0.tar.gz\n",
            "Building wheels for collected packages: locket\n",
            "  Building wheel for locket (setup.py) ... \u001b[?25l\u001b[?25hdone\n",
            "  Created wheel for locket: filename=locket-0.2.0-cp36-none-any.whl size=4042 sha256=c732ab268983e5eb91e0806ab701b9458e9f4eedefb09bb8752c54ccf3c1c6e4\n",
            "  Stored in directory: /root/.cache/pip/wheels/26/1e/e8/4fa236ec931b1a0cdd61578e20d4934d7bf188858723b84698\n",
            "Successfully built locket\n",
            "Installing collected packages: locket, partd, fsspec\n",
            "Successfully installed fsspec-0.8.5 locket-0.2.0 partd-1.1.0\n"
          ],
          "name": "stdout"
        }
      ]
    },
    {
      "cell_type": "code",
      "metadata": {
        "id": "rH9NL-acxBjZ",
        "colab": {
          "base_uri": "https://localhost:8080/"
        },
        "outputId": "1dacaa13-2ff3-4f6c-8383-77e4e6593823"
      },
      "source": [
        "class_paths = glob('./input_my/train/*.csv') #引入訓練集路徑\n",
        "numstonames = {i: v[17:-4].replace(\" \", \"_\") for i, v in enumerate(class_paths)} # v[14:-4]\n",
        "print(numstonames)\n",
        "namestonums = {v:k for k,v in numstonames.items()}\n",
        "\n",
        "num_classes = 30\n",
        "imheight, imwidth = 64, 64  \n",
        "ims_per_class = 3000 \n",
        "\n",
        "def draw_it(strokes):\n",
        "    image = Image.new(\"P\", (256,256), color=255)\n",
        "    image_draw = ImageDraw.Draw(image)\n",
        "    for stroke in ast.literal_eval(strokes):\n",
        "        for i in range(len(stroke[0])-1):\n",
        "            image_draw.line([stroke[0][i], \n",
        "                             stroke[1][i],\n",
        "                             stroke[0][i+1], \n",
        "                             stroke[1][i+1]],\n",
        "                            fill=0, width=5)\n",
        "    image = image.resize((imheight, imwidth))\n",
        "    return np.array(image)/255.\n"
      ],
      "execution_count": 6,
      "outputs": [
        {
          "output_type": "stream",
          "text": [
            "{0: 'rabbit', 1: 'shoe', 2: 'scissors', 3: 'star', 4: 'sword', 5: 'The_Eiffel_Tower', 6: 'tree', 7: 'airplane', 8: 'bee', 9: 'bicycle', 10: 'butterfly', 11: 'cake', 12: 'bird', 13: 'cat', 14: 'camera', 15: 'chair', 16: 'clock', 17: 'computer', 18: 'diamond', 19: 'door', 20: 'ear', 21: 'hamburger', 22: 'guitar', 23: 'hat', 24: 'hammer', 25: 'hand', 26: 'ladder', 27: 'lion', 28: 'leaf', 29: 'pencil'}\n"
          ],
          "name": "stdout"
        }
      ]
    },
    {
      "cell_type": "code",
      "metadata": {
        "id": "u-8ODZjAxBjv",
        "colab": {
          "base_uri": "https://localhost:8080/"
        },
        "outputId": "78d1df22-e275-4e14-ccb6-7fdae175b7d8"
      },
      "source": [
        "train_grand = []   #訓練集預處理\n",
        "\n",
        "for i,c in enumerate(tqdm(class_paths[0: num_classes])):\n",
        "    train = pd.read_csv(c,nrows = ims_per_class)\n",
        "    imagebag = bag.from_sequence(train.drawing.values).map(draw_it) \n",
        "    trainarray = np.array(imagebag.compute())\n",
        "    trainarray = np.reshape(trainarray, (train.shape[0], -1))    \n",
        "    labelarray = np.full((train.shape[0], 1), i)\n",
        "    trainarray = np.concatenate((labelarray, trainarray), axis=1)\n",
        "    train_grand.append(trainarray)\n",
        "    \n",
        "#less memory than np.concatenate\n",
        "train_grand = np.array([train_grand.pop() for i in np.arange(num_classes)]) \n",
        "train_grand = train_grand.reshape((-1, (imheight*imwidth+1)))\n",
        "\n",
        "del trainarray\n",
        "del train"
      ],
      "execution_count": 7,
      "outputs": [
        {
          "output_type": "stream",
          "text": [
            "100%|██████████| 30/30 [00:48<00:00,  1.63s/it]\n"
          ],
          "name": "stderr"
        }
      ]
    },
    {
      "cell_type": "code",
      "metadata": {
        "colab": {
          "base_uri": "https://localhost:8080/"
        },
        "id": "oWzzQF7DGxe2",
        "outputId": "090fee72-9b28-4d20-9ae4-b65504b2a570"
      },
      "source": [
        "train_grand.shape"
      ],
      "execution_count": 8,
      "outputs": [
        {
          "output_type": "execute_result",
          "data": {
            "text/plain": [
              "(90000, 4097)"
            ]
          },
          "metadata": {
            "tags": []
          },
          "execution_count": 8
        }
      ]
    },
    {
      "cell_type": "code",
      "metadata": {
        "id": "IMyZ7--0xBj0"
      },
      "source": [
        "#整合訓練集\n",
        "\n",
        "np.random.shuffle(train_grand)\n",
        "y_train, X_train = train_grand[:, 0], train_grand[:, 1:]\n",
        "\n",
        "del train_grand\n",
        "\n",
        "valid = pd.read_csv('./input_my/res.csv',nrows = ims_per_class*30) ##### ./input/valid.csv #### res\n",
        "imagebag = bag.from_sequence(valid.drawing.values).map(draw_it)\n",
        "validarray = np.array(imagebag.compute())\n",
        "validarray = np.reshape(validarray, (validarray.shape[0], imheight, imwidth, 1))\n",
        "\n",
        "\n",
        "\n",
        "X_val = validarray\n",
        "y_val = [namestonums[w.replace(\" \", \"_\") ] for w in valid.word]\n",
        "\n",
        "del valid\n",
        "\n",
        "y_train = keras.utils.to_categorical(y_train, num_classes)\n",
        "X_train = X_train.reshape(X_train.shape[0], imheight, imwidth, 1)\n",
        "y_val = keras.utils.to_categorical(y_val, num_classes)\n",
        "X_val = X_val.reshape(X_val.shape[0], imheight, imwidth, 1)"
      ],
      "execution_count": 9,
      "outputs": []
    },
    {
      "cell_type": "code",
      "metadata": {
        "colab": {
          "base_uri": "https://localhost:8080/"
        },
        "id": "a6wmktoWG9hs",
        "outputId": "870e2ed8-45cc-40dd-d888-3c1c7adfbf6c"
      },
      "source": [
        "y_val.shape"
      ],
      "execution_count": 10,
      "outputs": [
        {
          "output_type": "execute_result",
          "data": {
            "text/plain": [
              "(500, 30)"
            ]
          },
          "metadata": {
            "tags": []
          },
          "execution_count": 10
        }
      ]
    },
    {
      "cell_type": "code",
      "metadata": {
        "id": "kZc6X1i1H108"
      },
      "source": [
        ""
      ],
      "execution_count": 10,
      "outputs": []
    },
    {
      "cell_type": "code",
      "metadata": {
        "colab": {
          "base_uri": "https://localhost:8080/",
          "height": 303
        },
        "id": "38QdbqRaHdG-",
        "outputId": "6396d74b-0bed-430b-ec81-684348f1768f"
      },
      "source": [
        "import matplotlib.pyplot as plt\r\n",
        "print(y_val[0,:])\r\n",
        "plt.imshow(X_val[0,:,:,0])\r\n",
        "plt.show()"
      ],
      "execution_count": 11,
      "outputs": [
        {
          "output_type": "stream",
          "text": [
            "[0. 0. 0. 0. 0. 0. 0. 0. 0. 0. 0. 0. 0. 0. 0. 0. 0. 0. 0. 0. 0. 0. 0. 0.\n",
            " 1. 0. 0. 0. 0. 0.]\n"
          ],
          "name": "stdout"
        },
        {
          "output_type": "display_data",
          "data": {
            "image/png": "[encoded data removed]",
            "text/plain": [
              "<Figure size 432x288 with 1 Axes>"
            ]
          },
          "metadata": {
            "tags": [],
            "image/png": {
              "width": 251,
              "height": 250
            },
            "needs_background": "light"
          }
        }
      ]
    },
    {
      "cell_type": "code",
      "metadata": {
        "id": "dG3_PtyYMwNQ"
      },
      "source": [
        "import seaborn as sns"
      ],
      "execution_count": 12,
      "outputs": []
    },
    {
      "cell_type": "code",
      "metadata": {
        "id": "KrJCoDPOMoOZ",
        "colab": {
          "base_uri": "https://localhost:8080/"
        },
        "outputId": "cf773b3b-e044-47b8-f389-2b4261a956c5"
      },
      "source": [
        "\n",
        "valid = pd.read_csv('./input_my/res.csv',nrows = ims_per_class*3) ##### ./input/valid.csv #### res\n",
        "Y_train = valid[\"word\"]\n",
        "Y_train.value_counts()"
      ],
      "execution_count": 13,
      "outputs": [
        {
          "output_type": "execute_result",
          "data": {
            "text/plain": [
              "chair               32\n",
              "hat                 29\n",
              "hand                28\n",
              "hamburger           23\n",
              "diamond             22\n",
              "tree                20\n",
              "sword               20\n",
              "bird                19\n",
              "shoe                19\n",
              "bicycle             19\n",
              "guitar              18\n",
              "cake                18\n",
              "rabbit              17\n",
              "The Eiffel Tower    17\n",
              "ear                 16\n",
              "bee                 16\n",
              "leaf                15\n",
              "clock               14\n",
              "airplane            14\n",
              "butterfly           13\n",
              "lion                13\n",
              "pencil              13\n",
              "star                13\n",
              "door                12\n",
              "ladder              12\n",
              "camera              11\n",
              "scissors            11\n",
              "hammer              10\n",
              "computer             8\n",
              "cat                  8\n",
              "Name: word, dtype: int64"
            ]
          },
          "metadata": {
            "tags": []
          },
          "execution_count": 13
        }
      ]
    },
    {
      "cell_type": "code",
      "metadata": {
        "id": "wq3nOu4CxBkA",
        "colab": {
          "base_uri": "https://localhost:8080/"
        },
        "outputId": "14e7b78d-09e8-4db1-9096-153ea1297451"
      },
      "source": [
        "model = Sequential() #模型建構\n",
        "model.add(Conv2D(32, kernel_size=(3, 3), padding='same', activation='relu', input_shape=(imheight, imwidth, 1)))\n",
        "model.add(MaxPooling2D(pool_size=(4, 4)))\n",
        "model.add(Flatten())\n",
        "model.add(Dense(100, activation='relu'))\n",
        "model.add(Dense(num_classes, activation='softmax'))\n",
        "model.summary()\n",
        "\n",
        "\n"
      ],
      "execution_count": 18,
      "outputs": [
        {
          "output_type": "stream",
          "text": [
            "Model: \"sequential_2\"\n",
            "_________________________________________________________________\n",
            "Layer (type)                 Output Shape              Param #   \n",
            "=================================================================\n",
            "conv2d_3 (Conv2D)            (None, 64, 64, 32)        320       \n",
            "_________________________________________________________________\n",
            "max_pooling2d_3 (MaxPooling2 (None, 16, 16, 32)        0         \n",
            "_________________________________________________________________\n",
            "flatten_2 (Flatten)          (None, 8192)              0         \n",
            "_________________________________________________________________\n",
            "dense_4 (Dense)              (None, 100)               819300    \n",
            "_________________________________________________________________\n",
            "dense_5 (Dense)              (None, 30)                3030      \n",
            "=================================================================\n",
            "Total params: 822,650\n",
            "Trainable params: 822,650\n",
            "Non-trainable params: 0\n",
            "_________________________________________________________________\n"
          ],
          "name": "stdout"
        }
      ]
    },
    {
      "cell_type": "code",
      "metadata": {
        "id": "wQA_TrF4xBkF"
      },
      "source": [
        "import time\n",
        "starttime = time.time()"
      ],
      "execution_count": 19,
      "outputs": []
    },
    {
      "cell_type": "code",
      "metadata": {
        "id": "knf-6ewIPbC6"
      },
      "source": [
        ""
      ],
      "execution_count": 15,
      "outputs": []
    },
    {
      "cell_type": "code",
      "metadata": {
        "id": "IqA05c4uxBkJ",
        "colab": {
          "base_uri": "https://localhost:8080/",
          "height": 571
        },
        "outputId": "a5a1442f-ddec-4181-c0ec-8e7f83a85533"
      },
      "source": [
        "def top_3_accuracy(x,y): #訓練!!!\n",
        "    t3 = top_k_categorical_accuracy(x,y, 3)\n",
        "    return t3\n",
        "\n",
        "reduceLROnPlat = ReduceLROnPlateau(monitor='val_loss', factor=0.5, patience=3, \n",
        "                                   verbose=1, mode='auto', min_delta=0.005, cooldown=5, min_lr=0.0001)\n",
        "earlystop = EarlyStopping(monitor='val_top_3_accuracy', mode='max', patience=5) \n",
        "callbacks = [reduceLROnPlat, earlystop]\n",
        "\n",
        "model.compile(loss='categorical_crossentropy',\n",
        "              optimizer='adam',\n",
        "              metrics=['accuracy', top_3_accuracy])\n",
        "\n",
        "model.fit(x=X_train, y=y_train,\n",
        "          batch_size = 32,\n",
        "          epochs = 22,\n",
        "          validation_data = (X_val, y_val),\n",
        "          callbacks = callbacks,\n",
        "          verbose = 1)\n",
        "endtime = time.time()"
      ],
      "execution_count": 24,
      "outputs": [
        {
          "output_type": "stream",
          "text": [
            "Epoch 1/22\n",
            "2813/2813 [==============================] - 16s 6ms/step - loss: 1.3099 - accuracy: 0.6319 - top_3_accuracy: 0.7886 - val_loss: 0.4273 - val_accuracy: 0.8700 - val_top_3_accuracy: 0.9540\n",
            "Epoch 2/22\n",
            "2813/2813 [==============================] - 16s 6ms/step - loss: 0.4722 - accuracy: 0.8635 - top_3_accuracy: 0.9578 - val_loss: 0.3494 - val_accuracy: 0.8860 - val_top_3_accuracy: 0.9740\n",
            "Epoch 3/22\n",
            "2813/2813 [==============================] - 16s 6ms/step - loss: 0.3112 - accuracy: 0.9078 - top_3_accuracy: 0.9775 - val_loss: 0.3235 - val_accuracy: 0.8960 - val_top_3_accuracy: 0.9780\n",
            "Epoch 4/22\n",
            "2813/2813 [==============================] - 16s 6ms/step - loss: 0.2281 - accuracy: 0.9300 - top_3_accuracy: 0.9862 - val_loss: 0.2743 - val_accuracy: 0.9140 - val_top_3_accuracy: 0.9780\n",
            "Epoch 5/22\n",
            "1410/2813 [==============>...............] - ETA: 7s - loss: 0.1727 - accuracy: 0.9455 - top_3_accuracy: 0.9908"
          ],
          "name": "stdout"
        },
        {
          "output_type": "error",
          "ename": "KeyboardInterrupt",
          "evalue": "ignored",
          "traceback": [
            "\u001b[0;31m---------------------------------------------------------------------------\u001b[0m",
            "\u001b[0;31mKeyboardInterrupt\u001b[0m                         Traceback (most recent call last)",
            "\u001b[0;32m<ipython-input-24-49ba2cbce088>\u001b[0m in \u001b[0;36m<module>\u001b[0;34m()\u001b[0m\n\u001b[1;32m     17\u001b[0m           \u001b[0mvalidation_data\u001b[0m \u001b[0;34m=\u001b[0m \u001b[0;34m(\u001b[0m\u001b[0mX_val\u001b[0m\u001b[0;34m,\u001b[0m \u001b[0my_val\u001b[0m\u001b[0;34m)\u001b[0m\u001b[0;34m,\u001b[0m\u001b[0;34m\u001b[0m\u001b[0;34m\u001b[0m\u001b[0m\n\u001b[1;32m     18\u001b[0m           \u001b[0mcallbacks\u001b[0m \u001b[0;34m=\u001b[0m \u001b[0mcallbacks\u001b[0m\u001b[0;34m,\u001b[0m\u001b[0;34m\u001b[0m\u001b[0;34m\u001b[0m\u001b[0m\n\u001b[0;32m---> 19\u001b[0;31m           verbose = 1)\n\u001b[0m\u001b[1;32m     20\u001b[0m \u001b[0mendtime\u001b[0m \u001b[0;34m=\u001b[0m \u001b[0mtime\u001b[0m\u001b[0;34m.\u001b[0m\u001b[0mtime\u001b[0m\u001b[0;34m(\u001b[0m\u001b[0;34m)\u001b[0m\u001b[0;34m\u001b[0m\u001b[0;34m\u001b[0m\u001b[0m\n",
            "\u001b[0;32m/usr/local/lib/python3.6/dist-packages/tensorflow/python/keras/engine/training.py\u001b[0m in \u001b[0;36mfit\u001b[0;34m(self, x, y, batch_size, epochs, verbose, callbacks, validation_split, validation_data, shuffle, class_weight, sample_weight, initial_epoch, steps_per_epoch, validation_steps, validation_batch_size, validation_freq, max_queue_size, workers, use_multiprocessing)\u001b[0m\n\u001b[1;32m   1103\u001b[0m               \u001b[0mlogs\u001b[0m \u001b[0;34m=\u001b[0m \u001b[0mtmp_logs\u001b[0m  \u001b[0;31m# No error, now safe to assign to logs.\u001b[0m\u001b[0;34m\u001b[0m\u001b[0;34m\u001b[0m\u001b[0m\n\u001b[1;32m   1104\u001b[0m               \u001b[0mend_step\u001b[0m \u001b[0;34m=\u001b[0m \u001b[0mstep\u001b[0m \u001b[0;34m+\u001b[0m \u001b[0mdata_handler\u001b[0m\u001b[0;34m.\u001b[0m\u001b[0mstep_increment\u001b[0m\u001b[0;34m\u001b[0m\u001b[0;34m\u001b[0m\u001b[0m\n\u001b[0;32m-> 1105\u001b[0;31m               \u001b[0mcallbacks\u001b[0m\u001b[0;34m.\u001b[0m\u001b[0mon_train_batch_end\u001b[0m\u001b[0;34m(\u001b[0m\u001b[0mend_step\u001b[0m\u001b[0;34m,\u001b[0m \u001b[0mlogs\u001b[0m\u001b[0;34m)\u001b[0m\u001b[0;34m\u001b[0m\u001b[0;34m\u001b[0m\u001b[0m\n\u001b[0m\u001b[1;32m   1106\u001b[0m               \u001b[0;32mif\u001b[0m \u001b[0mself\u001b[0m\u001b[0;34m.\u001b[0m\u001b[0mstop_training\u001b[0m\u001b[0;34m:\u001b[0m\u001b[0;34m\u001b[0m\u001b[0;34m\u001b[0m\u001b[0m\n\u001b[1;32m   1107\u001b[0m                 \u001b[0;32mbreak\u001b[0m\u001b[0;34m\u001b[0m\u001b[0;34m\u001b[0m\u001b[0m\n",
            "\u001b[0;32m/usr/local/lib/python3.6/dist-packages/tensorflow/python/keras/callbacks.py\u001b[0m in \u001b[0;36mon_train_batch_end\u001b[0;34m(self, batch, logs)\u001b[0m\n\u001b[1;32m    452\u001b[0m     \"\"\"\n\u001b[1;32m    453\u001b[0m     \u001b[0;32mif\u001b[0m \u001b[0mself\u001b[0m\u001b[0;34m.\u001b[0m\u001b[0m_should_call_train_batch_hooks\u001b[0m\u001b[0;34m:\u001b[0m\u001b[0;34m\u001b[0m\u001b[0;34m\u001b[0m\u001b[0m\n\u001b[0;32m--> 454\u001b[0;31m       \u001b[0mself\u001b[0m\u001b[0;34m.\u001b[0m\u001b[0m_call_batch_hook\u001b[0m\u001b[0;34m(\u001b[0m\u001b[0mModeKeys\u001b[0m\u001b[0;34m.\u001b[0m\u001b[0mTRAIN\u001b[0m\u001b[0;34m,\u001b[0m \u001b[0;34m'end'\u001b[0m\u001b[0;34m,\u001b[0m \u001b[0mbatch\u001b[0m\u001b[0;34m,\u001b[0m \u001b[0mlogs\u001b[0m\u001b[0;34m=\u001b[0m\u001b[0mlogs\u001b[0m\u001b[0;34m)\u001b[0m\u001b[0;34m\u001b[0m\u001b[0;34m\u001b[0m\u001b[0m\n\u001b[0m\u001b[1;32m    455\u001b[0m \u001b[0;34m\u001b[0m\u001b[0m\n\u001b[1;32m    456\u001b[0m   \u001b[0;32mdef\u001b[0m \u001b[0mon_test_batch_begin\u001b[0m\u001b[0;34m(\u001b[0m\u001b[0mself\u001b[0m\u001b[0;34m,\u001b[0m \u001b[0mbatch\u001b[0m\u001b[0;34m,\u001b[0m \u001b[0mlogs\u001b[0m\u001b[0;34m=\u001b[0m\u001b[0;32mNone\u001b[0m\u001b[0;34m)\u001b[0m\u001b[0;34m:\u001b[0m\u001b[0;34m\u001b[0m\u001b[0;34m\u001b[0m\u001b[0m\n",
            "\u001b[0;32m/usr/local/lib/python3.6/dist-packages/tensorflow/python/keras/callbacks.py\u001b[0m in \u001b[0;36m_call_batch_hook\u001b[0;34m(self, mode, hook, batch, logs)\u001b[0m\n\u001b[1;32m    294\u001b[0m       \u001b[0mself\u001b[0m\u001b[0;34m.\u001b[0m\u001b[0m_call_batch_begin_hook\u001b[0m\u001b[0;34m(\u001b[0m\u001b[0mmode\u001b[0m\u001b[0;34m,\u001b[0m \u001b[0mbatch\u001b[0m\u001b[0;34m,\u001b[0m \u001b[0mlogs\u001b[0m\u001b[0;34m)\u001b[0m\u001b[0;34m\u001b[0m\u001b[0;34m\u001b[0m\u001b[0m\n\u001b[1;32m    295\u001b[0m     \u001b[0;32melif\u001b[0m \u001b[0mhook\u001b[0m \u001b[0;34m==\u001b[0m \u001b[0;34m'end'\u001b[0m\u001b[0;34m:\u001b[0m\u001b[0;34m\u001b[0m\u001b[0;34m\u001b[0m\u001b[0m\n\u001b[0;32m--> 296\u001b[0;31m       \u001b[0mself\u001b[0m\u001b[0;34m.\u001b[0m\u001b[0m_call_batch_end_hook\u001b[0m\u001b[0;34m(\u001b[0m\u001b[0mmode\u001b[0m\u001b[0;34m,\u001b[0m \u001b[0mbatch\u001b[0m\u001b[0;34m,\u001b[0m \u001b[0mlogs\u001b[0m\u001b[0;34m)\u001b[0m\u001b[0;34m\u001b[0m\u001b[0;34m\u001b[0m\u001b[0m\n\u001b[0m\u001b[1;32m    297\u001b[0m     \u001b[0;32melse\u001b[0m\u001b[0;34m:\u001b[0m\u001b[0;34m\u001b[0m\u001b[0;34m\u001b[0m\u001b[0m\n\u001b[1;32m    298\u001b[0m       \u001b[0;32mraise\u001b[0m \u001b[0mValueError\u001b[0m\u001b[0;34m(\u001b[0m\u001b[0;34m'Unrecognized hook: {}'\u001b[0m\u001b[0;34m.\u001b[0m\u001b[0mformat\u001b[0m\u001b[0;34m(\u001b[0m\u001b[0mhook\u001b[0m\u001b[0;34m)\u001b[0m\u001b[0;34m)\u001b[0m\u001b[0;34m\u001b[0m\u001b[0;34m\u001b[0m\u001b[0m\n",
            "\u001b[0;32m/usr/local/lib/python3.6/dist-packages/tensorflow/python/keras/callbacks.py\u001b[0m in \u001b[0;36m_call_batch_end_hook\u001b[0;34m(self, mode, batch, logs)\u001b[0m\n\u001b[1;32m    314\u001b[0m       \u001b[0mself\u001b[0m\u001b[0;34m.\u001b[0m\u001b[0m_batch_times\u001b[0m\u001b[0;34m.\u001b[0m\u001b[0mappend\u001b[0m\u001b[0;34m(\u001b[0m\u001b[0mbatch_time\u001b[0m\u001b[0;34m)\u001b[0m\u001b[0;34m\u001b[0m\u001b[0;34m\u001b[0m\u001b[0m\n\u001b[1;32m    315\u001b[0m \u001b[0;34m\u001b[0m\u001b[0m\n\u001b[0;32m--> 316\u001b[0;31m     \u001b[0mself\u001b[0m\u001b[0;34m.\u001b[0m\u001b[0m_call_batch_hook_helper\u001b[0m\u001b[0;34m(\u001b[0m\u001b[0mhook_name\u001b[0m\u001b[0;34m,\u001b[0m \u001b[0mbatch\u001b[0m\u001b[0;34m,\u001b[0m \u001b[0mlogs\u001b[0m\u001b[0;34m)\u001b[0m\u001b[0;34m\u001b[0m\u001b[0;34m\u001b[0m\u001b[0m\n\u001b[0m\u001b[1;32m    317\u001b[0m \u001b[0;34m\u001b[0m\u001b[0m\n\u001b[1;32m    318\u001b[0m     \u001b[0;32mif\u001b[0m \u001b[0mlen\u001b[0m\u001b[0;34m(\u001b[0m\u001b[0mself\u001b[0m\u001b[0;34m.\u001b[0m\u001b[0m_batch_times\u001b[0m\u001b[0;34m)\u001b[0m \u001b[0;34m>=\u001b[0m \u001b[0mself\u001b[0m\u001b[0;34m.\u001b[0m\u001b[0m_num_batches_for_timing_check\u001b[0m\u001b[0;34m:\u001b[0m\u001b[0;34m\u001b[0m\u001b[0;34m\u001b[0m\u001b[0m\n",
            "\u001b[0;32m/usr/local/lib/python3.6/dist-packages/tensorflow/python/keras/callbacks.py\u001b[0m in \u001b[0;36m_call_batch_hook_helper\u001b[0;34m(self, hook_name, batch, logs)\u001b[0m\n\u001b[1;32m    354\u001b[0m       \u001b[0mhook\u001b[0m \u001b[0;34m=\u001b[0m \u001b[0mgetattr\u001b[0m\u001b[0;34m(\u001b[0m\u001b[0mcallback\u001b[0m\u001b[0;34m,\u001b[0m \u001b[0mhook_name\u001b[0m\u001b[0;34m)\u001b[0m\u001b[0;34m\u001b[0m\u001b[0;34m\u001b[0m\u001b[0m\n\u001b[1;32m    355\u001b[0m       \u001b[0;32mif\u001b[0m \u001b[0mgetattr\u001b[0m\u001b[0;34m(\u001b[0m\u001b[0mcallback\u001b[0m\u001b[0;34m,\u001b[0m \u001b[0;34m'_supports_tf_logs'\u001b[0m\u001b[0;34m,\u001b[0m \u001b[0;32mFalse\u001b[0m\u001b[0;34m)\u001b[0m\u001b[0;34m:\u001b[0m\u001b[0;34m\u001b[0m\u001b[0;34m\u001b[0m\u001b[0m\n\u001b[0;32m--> 356\u001b[0;31m         \u001b[0mhook\u001b[0m\u001b[0;34m(\u001b[0m\u001b[0mbatch\u001b[0m\u001b[0;34m,\u001b[0m \u001b[0mlogs\u001b[0m\u001b[0;34m)\u001b[0m\u001b[0;34m\u001b[0m\u001b[0;34m\u001b[0m\u001b[0m\n\u001b[0m\u001b[1;32m    357\u001b[0m       \u001b[0;32melse\u001b[0m\u001b[0;34m:\u001b[0m\u001b[0;34m\u001b[0m\u001b[0;34m\u001b[0m\u001b[0m\n\u001b[1;32m    358\u001b[0m         \u001b[0;32mif\u001b[0m \u001b[0mnumpy_logs\u001b[0m \u001b[0;32mis\u001b[0m \u001b[0;32mNone\u001b[0m\u001b[0;34m:\u001b[0m  \u001b[0;31m# Only convert once.\u001b[0m\u001b[0;34m\u001b[0m\u001b[0;34m\u001b[0m\u001b[0m\n",
            "\u001b[0;32m/usr/local/lib/python3.6/dist-packages/tensorflow/python/keras/callbacks.py\u001b[0m in \u001b[0;36mon_train_batch_end\u001b[0;34m(self, batch, logs)\u001b[0m\n\u001b[1;32m   1018\u001b[0m \u001b[0;34m\u001b[0m\u001b[0m\n\u001b[1;32m   1019\u001b[0m   \u001b[0;32mdef\u001b[0m \u001b[0mon_train_batch_end\u001b[0m\u001b[0;34m(\u001b[0m\u001b[0mself\u001b[0m\u001b[0;34m,\u001b[0m \u001b[0mbatch\u001b[0m\u001b[0;34m,\u001b[0m \u001b[0mlogs\u001b[0m\u001b[0;34m=\u001b[0m\u001b[0;32mNone\u001b[0m\u001b[0;34m)\u001b[0m\u001b[0;34m:\u001b[0m\u001b[0;34m\u001b[0m\u001b[0;34m\u001b[0m\u001b[0m\n\u001b[0;32m-> 1020\u001b[0;31m     \u001b[0mself\u001b[0m\u001b[0;34m.\u001b[0m\u001b[0m_batch_update_progbar\u001b[0m\u001b[0;34m(\u001b[0m\u001b[0mbatch\u001b[0m\u001b[0;34m,\u001b[0m \u001b[0mlogs\u001b[0m\u001b[0;34m)\u001b[0m\u001b[0;34m\u001b[0m\u001b[0;34m\u001b[0m\u001b[0m\n\u001b[0m\u001b[1;32m   1021\u001b[0m \u001b[0;34m\u001b[0m\u001b[0m\n\u001b[1;32m   1022\u001b[0m   \u001b[0;32mdef\u001b[0m \u001b[0mon_test_batch_end\u001b[0m\u001b[0;34m(\u001b[0m\u001b[0mself\u001b[0m\u001b[0;34m,\u001b[0m \u001b[0mbatch\u001b[0m\u001b[0;34m,\u001b[0m \u001b[0mlogs\u001b[0m\u001b[0;34m=\u001b[0m\u001b[0;32mNone\u001b[0m\u001b[0;34m)\u001b[0m\u001b[0;34m:\u001b[0m\u001b[0;34m\u001b[0m\u001b[0;34m\u001b[0m\u001b[0m\n",
            "\u001b[0;32m/usr/local/lib/python3.6/dist-packages/tensorflow/python/keras/callbacks.py\u001b[0m in \u001b[0;36m_batch_update_progbar\u001b[0;34m(self, batch, logs)\u001b[0m\n\u001b[1;32m   1082\u001b[0m     \u001b[0;32mif\u001b[0m \u001b[0mself\u001b[0m\u001b[0;34m.\u001b[0m\u001b[0mverbose\u001b[0m \u001b[0;34m==\u001b[0m \u001b[0;36m1\u001b[0m\u001b[0;34m:\u001b[0m\u001b[0;34m\u001b[0m\u001b[0;34m\u001b[0m\u001b[0m\n\u001b[1;32m   1083\u001b[0m       \u001b[0;31m# Only block async when verbose = 1.\u001b[0m\u001b[0;34m\u001b[0m\u001b[0;34m\u001b[0m\u001b[0;34m\u001b[0m\u001b[0m\n\u001b[0;32m-> 1084\u001b[0;31m       \u001b[0mlogs\u001b[0m \u001b[0;34m=\u001b[0m \u001b[0mtf_utils\u001b[0m\u001b[0;34m.\u001b[0m\u001b[0mto_numpy_or_python_type\u001b[0m\u001b[0;34m(\u001b[0m\u001b[0mlogs\u001b[0m\u001b[0;34m)\u001b[0m\u001b[0;34m\u001b[0m\u001b[0;34m\u001b[0m\u001b[0m\n\u001b[0m\u001b[1;32m   1085\u001b[0m       \u001b[0mself\u001b[0m\u001b[0;34m.\u001b[0m\u001b[0mprogbar\u001b[0m\u001b[0;34m.\u001b[0m\u001b[0mupdate\u001b[0m\u001b[0;34m(\u001b[0m\u001b[0mself\u001b[0m\u001b[0;34m.\u001b[0m\u001b[0mseen\u001b[0m\u001b[0;34m,\u001b[0m \u001b[0mlist\u001b[0m\u001b[0;34m(\u001b[0m\u001b[0mlogs\u001b[0m\u001b[0;34m.\u001b[0m\u001b[0mitems\u001b[0m\u001b[0;34m(\u001b[0m\u001b[0;34m)\u001b[0m\u001b[0;34m)\u001b[0m\u001b[0;34m,\u001b[0m \u001b[0mfinalize\u001b[0m\u001b[0;34m=\u001b[0m\u001b[0;32mFalse\u001b[0m\u001b[0;34m)\u001b[0m\u001b[0;34m\u001b[0m\u001b[0;34m\u001b[0m\u001b[0m\n\u001b[1;32m   1086\u001b[0m \u001b[0;34m\u001b[0m\u001b[0m\n",
            "\u001b[0;32m/usr/local/lib/python3.6/dist-packages/tensorflow/python/keras/utils/tf_utils.py\u001b[0m in \u001b[0;36mto_numpy_or_python_type\u001b[0;34m(tensors)\u001b[0m\n\u001b[1;32m    512\u001b[0m     \u001b[0;32mreturn\u001b[0m \u001b[0mt\u001b[0m  \u001b[0;31m# Don't turn ragged or sparse tensors to NumPy.\u001b[0m\u001b[0;34m\u001b[0m\u001b[0;34m\u001b[0m\u001b[0m\n\u001b[1;32m    513\u001b[0m \u001b[0;34m\u001b[0m\u001b[0m\n\u001b[0;32m--> 514\u001b[0;31m   \u001b[0;32mreturn\u001b[0m \u001b[0mnest\u001b[0m\u001b[0;34m.\u001b[0m\u001b[0mmap_structure\u001b[0m\u001b[0;34m(\u001b[0m\u001b[0m_to_single_numpy_or_python_type\u001b[0m\u001b[0;34m,\u001b[0m \u001b[0mtensors\u001b[0m\u001b[0;34m)\u001b[0m\u001b[0;34m\u001b[0m\u001b[0;34m\u001b[0m\u001b[0m\n\u001b[0m\u001b[1;32m    515\u001b[0m \u001b[0;34m\u001b[0m\u001b[0m\n\u001b[1;32m    516\u001b[0m \u001b[0;34m\u001b[0m\u001b[0m\n",
            "\u001b[0;32m/usr/local/lib/python3.6/dist-packages/tensorflow/python/util/nest.py\u001b[0m in \u001b[0;36mmap_structure\u001b[0;34m(func, *structure, **kwargs)\u001b[0m\n\u001b[1;32m    657\u001b[0m \u001b[0;34m\u001b[0m\u001b[0m\n\u001b[1;32m    658\u001b[0m   return pack_sequence_as(\n\u001b[0;32m--> 659\u001b[0;31m       \u001b[0mstructure\u001b[0m\u001b[0;34m[\u001b[0m\u001b[0;36m0\u001b[0m\u001b[0;34m]\u001b[0m\u001b[0;34m,\u001b[0m \u001b[0;34m[\u001b[0m\u001b[0mfunc\u001b[0m\u001b[0;34m(\u001b[0m\u001b[0;34m*\u001b[0m\u001b[0mx\u001b[0m\u001b[0;34m)\u001b[0m \u001b[0;32mfor\u001b[0m \u001b[0mx\u001b[0m \u001b[0;32min\u001b[0m \u001b[0mentries\u001b[0m\u001b[0;34m]\u001b[0m\u001b[0;34m,\u001b[0m\u001b[0;34m\u001b[0m\u001b[0;34m\u001b[0m\u001b[0m\n\u001b[0m\u001b[1;32m    660\u001b[0m       expand_composites=expand_composites)\n\u001b[1;32m    661\u001b[0m \u001b[0;34m\u001b[0m\u001b[0m\n",
            "\u001b[0;32m/usr/local/lib/python3.6/dist-packages/tensorflow/python/util/nest.py\u001b[0m in \u001b[0;36m<listcomp>\u001b[0;34m(.0)\u001b[0m\n\u001b[1;32m    657\u001b[0m \u001b[0;34m\u001b[0m\u001b[0m\n\u001b[1;32m    658\u001b[0m   return pack_sequence_as(\n\u001b[0;32m--> 659\u001b[0;31m       \u001b[0mstructure\u001b[0m\u001b[0;34m[\u001b[0m\u001b[0;36m0\u001b[0m\u001b[0;34m]\u001b[0m\u001b[0;34m,\u001b[0m \u001b[0;34m[\u001b[0m\u001b[0mfunc\u001b[0m\u001b[0;34m(\u001b[0m\u001b[0;34m*\u001b[0m\u001b[0mx\u001b[0m\u001b[0;34m)\u001b[0m \u001b[0;32mfor\u001b[0m \u001b[0mx\u001b[0m \u001b[0;32min\u001b[0m \u001b[0mentries\u001b[0m\u001b[0;34m]\u001b[0m\u001b[0;34m,\u001b[0m\u001b[0;34m\u001b[0m\u001b[0;34m\u001b[0m\u001b[0m\n\u001b[0m\u001b[1;32m    660\u001b[0m       expand_composites=expand_composites)\n\u001b[1;32m    661\u001b[0m \u001b[0;34m\u001b[0m\u001b[0m\n",
            "\u001b[0;32m/usr/local/lib/python3.6/dist-packages/tensorflow/python/keras/utils/tf_utils.py\u001b[0m in \u001b[0;36m_to_single_numpy_or_python_type\u001b[0;34m(t)\u001b[0m\n\u001b[1;32m    508\u001b[0m   \u001b[0;32mdef\u001b[0m \u001b[0m_to_single_numpy_or_python_type\u001b[0m\u001b[0;34m(\u001b[0m\u001b[0mt\u001b[0m\u001b[0;34m)\u001b[0m\u001b[0;34m:\u001b[0m\u001b[0;34m\u001b[0m\u001b[0;34m\u001b[0m\u001b[0m\n\u001b[1;32m    509\u001b[0m     \u001b[0;32mif\u001b[0m \u001b[0misinstance\u001b[0m\u001b[0;34m(\u001b[0m\u001b[0mt\u001b[0m\u001b[0;34m,\u001b[0m \u001b[0mops\u001b[0m\u001b[0;34m.\u001b[0m\u001b[0mTensor\u001b[0m\u001b[0;34m)\u001b[0m\u001b[0;34m:\u001b[0m\u001b[0;34m\u001b[0m\u001b[0;34m\u001b[0m\u001b[0m\n\u001b[0;32m--> 510\u001b[0;31m       \u001b[0mx\u001b[0m \u001b[0;34m=\u001b[0m \u001b[0mt\u001b[0m\u001b[0;34m.\u001b[0m\u001b[0mnumpy\u001b[0m\u001b[0;34m(\u001b[0m\u001b[0;34m)\u001b[0m\u001b[0;34m\u001b[0m\u001b[0;34m\u001b[0m\u001b[0m\n\u001b[0m\u001b[1;32m    511\u001b[0m       \u001b[0;32mreturn\u001b[0m \u001b[0mx\u001b[0m\u001b[0;34m.\u001b[0m\u001b[0mitem\u001b[0m\u001b[0;34m(\u001b[0m\u001b[0;34m)\u001b[0m \u001b[0;32mif\u001b[0m \u001b[0mnp\u001b[0m\u001b[0;34m.\u001b[0m\u001b[0mndim\u001b[0m\u001b[0;34m(\u001b[0m\u001b[0mx\u001b[0m\u001b[0;34m)\u001b[0m \u001b[0;34m==\u001b[0m \u001b[0;36m0\u001b[0m \u001b[0;32melse\u001b[0m \u001b[0mx\u001b[0m\u001b[0;34m\u001b[0m\u001b[0;34m\u001b[0m\u001b[0m\n\u001b[1;32m    512\u001b[0m     \u001b[0;32mreturn\u001b[0m \u001b[0mt\u001b[0m  \u001b[0;31m# Don't turn ragged or sparse tensors to NumPy.\u001b[0m\u001b[0;34m\u001b[0m\u001b[0;34m\u001b[0m\u001b[0m\n",
            "\u001b[0;32m/usr/local/lib/python3.6/dist-packages/tensorflow/python/framework/ops.py\u001b[0m in \u001b[0;36mnumpy\u001b[0;34m(self)\u001b[0m\n\u001b[1;32m   1069\u001b[0m     \"\"\"\n\u001b[1;32m   1070\u001b[0m     \u001b[0;31m# TODO(slebedev): Consider avoiding a copy for non-CPU or remote tensors.\u001b[0m\u001b[0;34m\u001b[0m\u001b[0;34m\u001b[0m\u001b[0;34m\u001b[0m\u001b[0m\n\u001b[0;32m-> 1071\u001b[0;31m     \u001b[0mmaybe_arr\u001b[0m \u001b[0;34m=\u001b[0m \u001b[0mself\u001b[0m\u001b[0;34m.\u001b[0m\u001b[0m_numpy\u001b[0m\u001b[0;34m(\u001b[0m\u001b[0;34m)\u001b[0m  \u001b[0;31m# pylint: disable=protected-access\u001b[0m\u001b[0;34m\u001b[0m\u001b[0;34m\u001b[0m\u001b[0m\n\u001b[0m\u001b[1;32m   1072\u001b[0m     \u001b[0;32mreturn\u001b[0m \u001b[0mmaybe_arr\u001b[0m\u001b[0;34m.\u001b[0m\u001b[0mcopy\u001b[0m\u001b[0;34m(\u001b[0m\u001b[0;34m)\u001b[0m \u001b[0;32mif\u001b[0m \u001b[0misinstance\u001b[0m\u001b[0;34m(\u001b[0m\u001b[0mmaybe_arr\u001b[0m\u001b[0;34m,\u001b[0m \u001b[0mnp\u001b[0m\u001b[0;34m.\u001b[0m\u001b[0mndarray\u001b[0m\u001b[0;34m)\u001b[0m \u001b[0;32melse\u001b[0m \u001b[0mmaybe_arr\u001b[0m\u001b[0;34m\u001b[0m\u001b[0;34m\u001b[0m\u001b[0m\n\u001b[1;32m   1073\u001b[0m \u001b[0;34m\u001b[0m\u001b[0m\n",
            "\u001b[0;32m/usr/local/lib/python3.6/dist-packages/tensorflow/python/framework/ops.py\u001b[0m in \u001b[0;36m_numpy\u001b[0;34m(self)\u001b[0m\n\u001b[1;32m   1035\u001b[0m   \u001b[0;32mdef\u001b[0m \u001b[0m_numpy\u001b[0m\u001b[0;34m(\u001b[0m\u001b[0mself\u001b[0m\u001b[0;34m)\u001b[0m\u001b[0;34m:\u001b[0m\u001b[0;34m\u001b[0m\u001b[0;34m\u001b[0m\u001b[0m\n\u001b[1;32m   1036\u001b[0m     \u001b[0;32mtry\u001b[0m\u001b[0;34m:\u001b[0m\u001b[0;34m\u001b[0m\u001b[0;34m\u001b[0m\u001b[0m\n\u001b[0;32m-> 1037\u001b[0;31m       \u001b[0;32mreturn\u001b[0m \u001b[0mself\u001b[0m\u001b[0;34m.\u001b[0m\u001b[0m_numpy_internal\u001b[0m\u001b[0;34m(\u001b[0m\u001b[0;34m)\u001b[0m\u001b[0;34m\u001b[0m\u001b[0;34m\u001b[0m\u001b[0m\n\u001b[0m\u001b[1;32m   1038\u001b[0m     \u001b[0;32mexcept\u001b[0m \u001b[0mcore\u001b[0m\u001b[0;34m.\u001b[0m\u001b[0m_NotOkStatusException\u001b[0m \u001b[0;32mas\u001b[0m \u001b[0me\u001b[0m\u001b[0;34m:\u001b[0m  \u001b[0;31m# pylint: disable=protected-access\u001b[0m\u001b[0;34m\u001b[0m\u001b[0;34m\u001b[0m\u001b[0m\n\u001b[1;32m   1039\u001b[0m       \u001b[0msix\u001b[0m\u001b[0;34m.\u001b[0m\u001b[0mraise_from\u001b[0m\u001b[0;34m(\u001b[0m\u001b[0mcore\u001b[0m\u001b[0;34m.\u001b[0m\u001b[0m_status_to_exception\u001b[0m\u001b[0;34m(\u001b[0m\u001b[0me\u001b[0m\u001b[0;34m.\u001b[0m\u001b[0mcode\u001b[0m\u001b[0;34m,\u001b[0m \u001b[0me\u001b[0m\u001b[0;34m.\u001b[0m\u001b[0mmessage\u001b[0m\u001b[0;34m)\u001b[0m\u001b[0;34m,\u001b[0m \u001b[0;32mNone\u001b[0m\u001b[0;34m)\u001b[0m  \u001b[0;31m# pylint: disable=protected-access\u001b[0m\u001b[0;34m\u001b[0m\u001b[0;34m\u001b[0m\u001b[0m\n",
            "\u001b[0;31mKeyboardInterrupt\u001b[0m: "
          ]
        }
      ]
    },
    {
      "cell_type": "markdown",
      "metadata": {
        "id": "C4y4qDFxxBkg"
      },
      "source": [
        "## Preprocessing the generating data and predict"
      ]
    },
    {
      "cell_type": "markdown",
      "metadata": {
        "id": "HixxJ4iDxBko"
      },
      "source": [
        "## Save model"
      ]
    },
    {
      "cell_type": "code",
      "metadata": {
        "id": "ke4zhvIUxBkq"
      },
      "source": [
        "model.save('my_model_1219.h5')"
      ],
      "execution_count": null,
      "outputs": []
    },
    {
      "cell_type": "markdown",
      "metadata": {
        "_uuid": "8dd9622a3f004ecc4b422d39dacd5f1f3302396a",
        "id": "yt-oz7-WxBk_"
      },
      "source": [
        "## Making a Submission"
      ]
    },
    {
      "cell_type": "code",
      "metadata": {
        "_uuid": "3d52b0bd272556f6da8f021b19350b7b050a249c",
        "id": "Y6CZG6WaxBlB"
      },
      "source": [
        "test = pd.read_csv('./input_my/test_ans.csv')[['drawing']]  #預測test檔案\n",
        "imagebag = bag.from_sequence(test.drawing.values).map(draw_it)\n",
        "testarray = np.array(imagebag.compute())\n",
        "testarray = np.reshape(testarray, (testarray.shape[0], imheight, imwidth, 1))\n",
        "testpreds = model.predict(testarray, verbose=0)\n",
        "ttvs = np.argsort(-testpreds)\n",
        "\n",
        "\n",
        "\n",
        "predict_label = [numstonames[ttvs[i][0]] for i in range(ttvs.shape[0])]\n",
        "\n",
        "test['word'] = predict_label\n",
        "test.to_csv('test_predict.csv')"
      ],
      "execution_count": 25,
      "outputs": []
    },
    {
      "cell_type": "code",
      "metadata": {
        "id": "iUS8EnTTdVDH",
        "colab": {
          "base_uri": "https://localhost:8080/"
        },
        "outputId": "bf842929-cfc7-4ab8-b60f-6dec90237e65"
      },
      "source": [
        "predict_label"
      ],
      "execution_count": 26,
      "outputs": [
        {
          "output_type": "execute_result",
          "data": {
            "text/plain": [
              "['ladder',\n",
              " 'airplane',\n",
              " 'rabbit',\n",
              " 'hat',\n",
              " 'hat',\n",
              " 'shoe',\n",
              " 'door',\n",
              " 'leaf',\n",
              " 'hand',\n",
              " 'diamond',\n",
              " 'leaf',\n",
              " 'ear',\n",
              " 'tree',\n",
              " 'airplane',\n",
              " 'chair',\n",
              " 'bee',\n",
              " 'clock',\n",
              " 'butterfly',\n",
              " 'sword',\n",
              " 'ear',\n",
              " 'leaf',\n",
              " 'hammer',\n",
              " 'hat',\n",
              " 'clock',\n",
              " 'butterfly',\n",
              " 'diamond',\n",
              " 'hat',\n",
              " 'hamburger',\n",
              " 'sword',\n",
              " 'ear',\n",
              " 'clock',\n",
              " 'cat',\n",
              " 'guitar',\n",
              " 'bicycle',\n",
              " 'hat',\n",
              " 'lion',\n",
              " 'sword',\n",
              " 'chair',\n",
              " 'sword',\n",
              " 'clock',\n",
              " 'hamburger',\n",
              " 'butterfly',\n",
              " 'bicycle',\n",
              " 'bicycle',\n",
              " 'cat',\n",
              " 'clock',\n",
              " 'shoe',\n",
              " 'airplane',\n",
              " 'pencil',\n",
              " 'diamond',\n",
              " 'chair',\n",
              " 'hat',\n",
              " 'scissors',\n",
              " 'bee',\n",
              " 'camera',\n",
              " 'hat',\n",
              " 'bicycle',\n",
              " 'hammer',\n",
              " 'cat',\n",
              " 'camera',\n",
              " 'rabbit',\n",
              " 'ear',\n",
              " 'door',\n",
              " 'door',\n",
              " 'leaf',\n",
              " 'computer',\n",
              " 'hand',\n",
              " 'ear',\n",
              " 'camera',\n",
              " 'bicycle',\n",
              " 'bee',\n",
              " 'pencil',\n",
              " 'bee',\n",
              " 'door',\n",
              " 'hand',\n",
              " 'ear',\n",
              " 'chair',\n",
              " 'The_Eiffel_Tower',\n",
              " 'bird',\n",
              " 'bird',\n",
              " 'camera',\n",
              " 'cake',\n",
              " 'ladder',\n",
              " 'rabbit',\n",
              " 'hamburger',\n",
              " 'pencil',\n",
              " 'clock',\n",
              " 'butterfly',\n",
              " 'camera',\n",
              " 'butterfly',\n",
              " 'door',\n",
              " 'door',\n",
              " 'clock',\n",
              " 'bee',\n",
              " 'cat',\n",
              " 'hammer',\n",
              " 'sword',\n",
              " 'scissors',\n",
              " 'star',\n",
              " 'The_Eiffel_Tower',\n",
              " 'camera',\n",
              " 'hand',\n",
              " 'diamond',\n",
              " 'clock',\n",
              " 'butterfly',\n",
              " 'rabbit',\n",
              " 'hamburger',\n",
              " 'diamond',\n",
              " 'cat',\n",
              " 'guitar',\n",
              " 'ladder',\n",
              " 'hamburger',\n",
              " 'ear',\n",
              " 'chair',\n",
              " 'scissors',\n",
              " 'lion',\n",
              " 'hand',\n",
              " 'star',\n",
              " 'hand',\n",
              " 'ear',\n",
              " 'The_Eiffel_Tower',\n",
              " 'leaf',\n",
              " 'shoe',\n",
              " 'butterfly',\n",
              " 'butterfly',\n",
              " 'hand',\n",
              " 'ladder',\n",
              " 'clock',\n",
              " 'ear',\n",
              " 'camera',\n",
              " 'cat',\n",
              " 'hand',\n",
              " 'airplane',\n",
              " 'shoe',\n",
              " 'airplane',\n",
              " 'camera',\n",
              " 'leaf',\n",
              " 'guitar',\n",
              " 'hat',\n",
              " 'shoe',\n",
              " 'lion',\n",
              " 'cat',\n",
              " 'sword',\n",
              " 'tree',\n",
              " 'pencil',\n",
              " 'hand',\n",
              " 'bicycle',\n",
              " 'star',\n",
              " 'hand',\n",
              " 'rabbit',\n",
              " 'hand',\n",
              " 'airplane',\n",
              " 'pencil',\n",
              " 'diamond',\n",
              " 'shoe',\n",
              " 'scissors',\n",
              " 'sword',\n",
              " 'hammer',\n",
              " 'airplane',\n",
              " 'guitar',\n",
              " 'computer',\n",
              " 'computer',\n",
              " 'hand',\n",
              " 'hammer',\n",
              " 'hat',\n",
              " 'diamond',\n",
              " 'hat',\n",
              " 'star',\n",
              " 'hat',\n",
              " 'clock',\n",
              " 'hamburger',\n",
              " 'ladder',\n",
              " 'butterfly',\n",
              " 'chair',\n",
              " 'hammer',\n",
              " 'lion',\n",
              " 'ladder',\n",
              " 'pencil',\n",
              " 'door',\n",
              " 'hamburger',\n",
              " 'The_Eiffel_Tower',\n",
              " 'leaf',\n",
              " 'clock',\n",
              " 'hammer',\n",
              " 'camera',\n",
              " 'camera',\n",
              " 'scissors',\n",
              " 'lion',\n",
              " 'lion',\n",
              " 'hammer',\n",
              " 'butterfly',\n",
              " 'rabbit',\n",
              " 'tree',\n",
              " 'scissors',\n",
              " 'hand',\n",
              " 'camera',\n",
              " 'sword',\n",
              " 'rabbit',\n",
              " 'shoe',\n",
              " 'door']"
            ]
          },
          "metadata": {
            "tags": []
          },
          "execution_count": 26
        }
      ]
    },
    {
      "cell_type": "code",
      "metadata": {
        "_uuid": "b05834b538958d2fa4d32e4e77f09473b81804b1",
        "id": "nGpqtxe9xBlF",
        "colab": {
          "base_uri": "https://localhost:8080/"
        },
        "outputId": "bee3b261-2202-4961-c617-88cd02b63870"
      },
      "source": [
        "test = pd.read_csv('./input_my/test_ans.csv')[['word']] #評估test檔案結果\n",
        "count = 0\n",
        "hit = 0\n",
        "for i in range(len(test['word'])):\n",
        "  count +=1\n",
        "  if test['word'][i] == predict_label[i]:\n",
        "    hit +=1\n",
        "print(\"hit rate = %d/%d\"%(hit,count))"
      ],
      "execution_count": 27,
      "outputs": [
        {
          "output_type": "stream",
          "text": [
            "hit rate = 173/200\n"
          ],
          "name": "stdout"
        }
      ]
    },
    {
      "cell_type": "code",
      "metadata": {
        "id": "QPcAzT8BxG5_"
      },
      "source": [
        "182/200"
      ],
      "execution_count": null,
      "outputs": []
    },
    {
      "cell_type": "code",
      "metadata": {
        "id": "_412iFR1xJW2"
      },
      "source": [
        "test = pd.read_csv('./input_my/exam.csv')[['drawing']]  #做出exam預測\r\n",
        "imagebag = bag.from_sequence(test.drawing.values).map(draw_it)\r\n",
        "testarray = np.array(imagebag.compute())\r\n",
        "testarray = np.reshape(testarray, (testarray.shape[0], imheight, imwidth, 1))\r\n",
        "testpreds = model.predict(testarray, verbose=0)\r\n",
        "ttvs = np.argsort(-testpreds)\r\n",
        "\r\n",
        "\r\n",
        "\r\n",
        "predict_label = [numstonames[ttvs[i][0]] for i in range(ttvs.shape[0])]\r\n",
        "\r\n",
        "test['word'] = predict_label\r\n",
        "test.to_csv('exam_predict.csv')"
      ],
      "execution_count": null,
      "outputs": []
    }
  ]
}