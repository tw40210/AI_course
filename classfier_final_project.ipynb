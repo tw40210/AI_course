{
  "nbformat": 4,
  "nbformat_minor": 0,
  "metadata": {
    "kernelspec": {
      "name": "python3",
      "display_name": "Python 3"
    },
    "language_info": {
      "codemirror_mode": {
        "name": "ipython",
        "version": 3
      },
      "file_extension": ".py",
      "mimetype": "text/x-python",
      "name": "python",
      "nbconvert_exporter": "python",
      "pygments_lexer": "ipython3",
      "version": "3.7.1"
    },
    "colab": {
      "name": "「「classfier_2.ipynb」的副本」的副本",
      "provenance": [],
      "collapsed_sections": [],
      "toc_visible": true,
      "machine_shape": "hm"
    },
    "accelerator": "GPU"
  },
  "cells": [
    {
      "cell_type": "code",
      "metadata": {
        "colab": {
          "base_uri": "https://localhost:8080/"
        },
        "id": "bBa9YzCK76kw",
        "outputId": "6a1845cb-c427-43f3-cdb7-eb70548e5212"
      },
      "source": [
        "from google.colab import drive #掛載雲端硬碟\n",
        "drive.mount('/content/drive')  "
      ],
      "execution_count": 1,
      "outputs": [
        {
          "output_type": "stream",
          "text": [
            "Mounted at /content/drive\n"
          ],
          "name": "stdout"
        }
      ]
    },
    {
      "cell_type": "markdown",
      "metadata": {
        "_uuid": "e87c1f259b32d4b67c09cfbf51ad39abd5c55904",
        "id": "2a4eKf6JxBhn"
      },
      "source": [
        "## This Notebook Demonstrates:\n",
        "1. Reading the data in python, preparing it for analysis, and adjusting the labels to contain underscores\n",
        "2. The code that simplfies a Raw drawing to the Simplified drawing\n",
        "3. How to make a submission file with predictions in the required format"
      ]
    },
    {
      "cell_type": "markdown",
      "metadata": {
        "id": "RLmq1mD_Q708"
      },
      "source": [
        ""
      ]
    },
    {
      "cell_type": "code",
      "metadata": {
        "id": "ym22E7ouAbuE"
      },
      "source": [
        "import os   #指定目錄位置\n",
        "os.chdir(\"drive/MyDrive/Colab Notebooks\") # to where your code and \"input_my\" are"
      ],
      "execution_count": 3,
      "outputs": []
    },
    {
      "cell_type": "code",
      "metadata": {
        "id": "ru-itiFqSuZO",
        "colab": {
          "base_uri": "https://localhost:8080/"
        },
        "outputId": "f835f118-7003-4193-c2ff-b8ae519657b5"
      },
      "source": [
        "import numpy as np #確認檔案\n",
        "import pandas as pd \n",
        "\n",
        "print(os.listdir(\"./input_my\")) #####\n",
        "print(os.listdir(\"./input_my/train\")) #####"
      ],
      "execution_count": 5,
      "outputs": [
        {
          "output_type": "stream",
          "text": [
            "['test_ans.csv', 'demo.csv', 'res.csv', 'train_raw', 'train', 'exam.csv']\n",
            "['rabbit.csv', 'shoe.csv', 'scissors.csv', 'star.csv', 'sword.csv', 'The_Eiffel_Tower.csv', 'tree.csv', 'airplane.csv', 'bee.csv', 'bicycle.csv', 'butterfly.csv', 'cake.csv', 'bird.csv', 'cat.csv', 'camera.csv', 'chair.csv', 'clock.csv', 'computer.csv', 'diamond.csv', 'door.csv', 'ear.csv', 'hamburger.csv', 'guitar.csv', 'hat.csv', 'hammer.csv', 'hand.csv', 'ladder.csv', 'lion.csv', 'leaf.csv', 'pencil.csv']\n"
          ],
          "name": "stdout"
        }
      ]
    },
    {
      "cell_type": "code",
      "metadata": {
        "_cell_guid": "79c7e3d0-c299-4dcb-8224-4455121ee9b0",
        "_uuid": "d629ff2d2480ee46fbb7e2d37f6b5fab8052498a",
        "id": "eiApvmxjxBh5"
      },
      "source": [
        "import warnings   #引入其他套件\n",
        "warnings.filterwarnings('ignore') # to suppress some matplotlib deprecation warnings\n",
        "\n",
        "import ast\n",
        "import math\n",
        "\n",
        "import matplotlib.pyplot as plt\n",
        "import matplotlib.style as style\n",
        "\n",
        "%matplotlib inline\n",
        "%config InlineBackend.figure_format = 'retina'\n"
      ],
      "execution_count": 6,
      "outputs": []
    },
    {
      "cell_type": "markdown",
      "metadata": {
        "id": "4oKdQTpwxBjI"
      },
      "source": [
        "## Model training"
      ]
    },
    {
      "cell_type": "code",
      "metadata": {
        "id": "z5qkgq_pxBjS",
        "colab": {
          "base_uri": "https://localhost:8080/"
        },
        "outputId": "b3f43c2c-264f-4f20-eda6-e02f24622fda"
      },
      "source": [
        "\n",
        "import os #引入其他套件\n",
        "# os.environ['TF_CPP_MIN_LOG_LEVEL'] = '2'\n",
        "# os.environ['KMP_DUPLICATE_LIB_OK']='True'\n",
        "from glob import glob\n",
        "import re\n",
        "import ast\n",
        "import numpy as np \n",
        "import pandas as pd\n",
        "from PIL import Image, ImageDraw \n",
        "from tqdm import tqdm\n",
        "!python -m pip install dask[bag]\n",
        "from dask import bag\n",
        "\n",
        "import tensorflow as tf\n",
        "from tensorflow import keras\n",
        "from tensorflow.keras.models import Sequential\n",
        "from tensorflow.keras.layers import Dense, Dropout, Flatten\n",
        "from tensorflow.keras.layers import Conv2D, MaxPooling2D\n",
        "from tensorflow.keras.metrics import top_k_categorical_accuracy\n",
        "from tensorflow.keras.callbacks import ModelCheckpoint, ReduceLROnPlateau, EarlyStopping"
      ],
      "execution_count": 7,
      "outputs": [
        {
          "output_type": "stream",
          "text": [
            "Requirement already satisfied: dask[bag] in /usr/local/lib/python3.6/dist-packages (2.12.0)\n",
            "Collecting partd>=0.3.10; extra == \"bag\"\n",
            "  Downloading https://files.pythonhosted.org/packages/44/e1/68dbe731c9c067655bff1eca5b7d40c20ca4b23fd5ec9f3d17e201a6f36b/partd-1.1.0-py3-none-any.whl\n",
            "Collecting fsspec>=0.6.0; extra == \"bag\"\n",
            "\u001b[?25l  Downloading https://files.pythonhosted.org/packages/ec/80/72ac0982cc833945fada4b76c52f0f65435ba4d53bc9317d1c70b5f7e7d5/fsspec-0.8.5-py3-none-any.whl (98kB)\n",
            "\u001b[K     |████████████████████████████████| 102kB 5.5MB/s \n",
            "\u001b[?25hRequirement already satisfied: toolz>=0.7.3; extra == \"bag\" in /usr/local/lib/python3.6/dist-packages (from dask[bag]) (0.11.1)\n",
            "Requirement already satisfied: cloudpickle>=0.2.1; extra == \"bag\" in /usr/local/lib/python3.6/dist-packages (from dask[bag]) (1.3.0)\n",
            "Collecting locket\n",
            "  Downloading https://files.pythonhosted.org/packages/d0/22/3c0f97614e0be8386542facb3a7dcfc2584f7b83608c02333bced641281c/locket-0.2.0.tar.gz\n",
            "Building wheels for collected packages: locket\n",
            "  Building wheel for locket (setup.py) ... \u001b[?25l\u001b[?25hdone\n",
            "  Created wheel for locket: filename=locket-0.2.0-cp36-none-any.whl size=4042 sha256=25c428a72652e1b210d36e43ef36c62de1c7d303a16371cf3c1467e72ec97110\n",
            "  Stored in directory: /root/.cache/pip/wheels/26/1e/e8/4fa236ec931b1a0cdd61578e20d4934d7bf188858723b84698\n",
            "Successfully built locket\n",
            "Installing collected packages: locket, partd, fsspec\n",
            "Successfully installed fsspec-0.8.5 locket-0.2.0 partd-1.1.0\n"
          ],
          "name": "stdout"
        }
      ]
    },
    {
      "cell_type": "code",
      "metadata": {
        "id": "rH9NL-acxBjZ",
        "colab": {
          "base_uri": "https://localhost:8080/"
        },
        "outputId": "25cb2e0c-6e14-429c-e108-0532a3c42841"
      },
      "source": [
        "class_paths = glob('./input_my/train/*.csv') #引入訓練集路徑\n",
        "numstonames = {i: v[17:-4].replace(\" \", \"_\") for i, v in enumerate(class_paths)} # v[14:-4]\n",
        "print(numstonames)\n",
        "namestonums = {v:k for k,v in numstonames.items()}\n",
        "\n",
        "num_classes = 30\n",
        "imheight, imwidth = 64, 64  \n",
        "ims_per_class = 3000 \n",
        "\n",
        "def draw_it(strokes):\n",
        "    image = Image.new(\"P\", (256,256), color=255)\n",
        "    image_draw = ImageDraw.Draw(image)\n",
        "    for stroke in ast.literal_eval(strokes):\n",
        "        for i in range(len(stroke[0])-1):\n",
        "            image_draw.line([stroke[0][i], \n",
        "                             stroke[1][i],\n",
        "                             stroke[0][i+1], \n",
        "                             stroke[1][i+1]],\n",
        "                            fill=0, width=5)\n",
        "    image = image.resize((imheight, imwidth))\n",
        "    return np.array(image)/255.\n"
      ],
      "execution_count": 8,
      "outputs": [
        {
          "output_type": "stream",
          "text": [
            "{0: 'rabbit', 1: 'shoe', 2: 'scissors', 3: 'star', 4: 'sword', 5: 'The_Eiffel_Tower', 6: 'tree', 7: 'airplane', 8: 'bee', 9: 'bicycle', 10: 'butterfly', 11: 'cake', 12: 'bird', 13: 'cat', 14: 'camera', 15: 'chair', 16: 'clock', 17: 'computer', 18: 'diamond', 19: 'door', 20: 'ear', 21: 'hamburger', 22: 'guitar', 23: 'hat', 24: 'hammer', 25: 'hand', 26: 'ladder', 27: 'lion', 28: 'leaf', 29: 'pencil'}\n"
          ],
          "name": "stdout"
        }
      ]
    },
    {
      "cell_type": "code",
      "metadata": {
        "id": "u-8ODZjAxBjv",
        "colab": {
          "base_uri": "https://localhost:8080/"
        },
        "outputId": "a8d11af7-6a99-4e88-d645-00d65b2f5f13"
      },
      "source": [
        "train_grand = []   #訓練集預處理\n",
        "\n",
        "for i,c in enumerate(tqdm(class_paths[0: num_classes])):\n",
        "    train = pd.read_csv(c,nrows = ims_per_class)\n",
        "    imagebag = bag.from_sequence(train.drawing.values).map(draw_it) \n",
        "    trainarray = np.array(imagebag.compute())\n",
        "    trainarray = np.reshape(trainarray, (train.shape[0], -1))    \n",
        "    labelarray = np.full((train.shape[0], 1), i)\n",
        "    trainarray = np.concatenate((labelarray, trainarray), axis=1)\n",
        "    train_grand.append(trainarray)\n",
        "    \n",
        "#less memory than np.concatenate\n",
        "train_grand = np.array([train_grand.pop() for i in np.arange(num_classes)]) \n",
        "train_grand = train_grand.reshape((-1, (imheight*imwidth+1)))\n",
        "\n",
        "del trainarray\n",
        "del train"
      ],
      "execution_count": 17,
      "outputs": [
        {
          "output_type": "stream",
          "text": [
            "100%|██████████| 30/30 [00:33<00:00,  1.12s/it]\n"
          ],
          "name": "stderr"
        }
      ]
    },
    {
      "cell_type": "code",
      "metadata": {
        "colab": {
          "base_uri": "https://localhost:8080/"
        },
        "id": "oWzzQF7DGxe2",
        "outputId": "6bad5280-5cc7-4e42-983c-9ec892a2d0df"
      },
      "source": [
        "train_grand.shape"
      ],
      "execution_count": null,
      "outputs": [
        {
          "output_type": "execute_result",
          "data": {
            "text/plain": [
              "(90000, 4097)"
            ]
          },
          "metadata": {
            "tags": []
          },
          "execution_count": 9
        }
      ]
    },
    {
      "cell_type": "code",
      "metadata": {
        "id": "IMyZ7--0xBj0"
      },
      "source": [
        "#整合訓練集\n",
        "\n",
        "np.random.shuffle(train_grand)\n",
        "y_train, X_train = train_grand[:, 0], train_grand[:, 1:]\n",
        "\n",
        "del train_grand\n",
        "\n",
        "valid = pd.read_csv('./input_my/res.csv',nrows = ims_per_class*30) ##### ./input/valid.csv #### res\n",
        "imagebag = bag.from_sequence(valid.drawing.values).map(draw_it)\n",
        "validarray = np.array(imagebag.compute())\n",
        "validarray = np.reshape(validarray, (validarray.shape[0], imheight, imwidth, 1))\n",
        "\n",
        "\n",
        "\n",
        "X_val = validarray\n",
        "y_val = [namestonums[w.replace(\" \", \"_\") ] for w in valid.word]\n",
        "\n",
        "del valid\n",
        "\n",
        "y_train = keras.utils.to_categorical(y_train, num_classes)\n",
        "X_train = X_train.reshape(X_train.shape[0], imheight, imwidth, 1)\n",
        "y_val = keras.utils.to_categorical(y_val, num_classes)\n",
        "X_val = X_val.reshape(X_val.shape[0], imheight, imwidth, 1)"
      ],
      "execution_count": 18,
      "outputs": []
    },
    {
      "cell_type": "code",
      "metadata": {
        "colab": {
          "base_uri": "https://localhost:8080/"
        },
        "id": "a6wmktoWG9hs",
        "outputId": "628f5714-ad6a-4f95-9654-2d88d40a9327"
      },
      "source": [
        "y_val.shape"
      ],
      "execution_count": null,
      "outputs": [
        {
          "output_type": "execute_result",
          "data": {
            "text/plain": [
              "(500, 30)"
            ]
          },
          "metadata": {
            "tags": []
          },
          "execution_count": 17
        }
      ]
    },
    {
      "cell_type": "code",
      "metadata": {
        "id": "kZc6X1i1H108"
      },
      "source": [
        ""
      ],
      "execution_count": null,
      "outputs": []
    },
    {
      "cell_type": "code",
      "metadata": {
        "colab": {
          "base_uri": "https://localhost:8080/",
          "height": 303
        },
        "id": "38QdbqRaHdG-",
        "outputId": "c13e8c8f-3e84-48ae-825d-861778def478"
      },
      "source": [
        "import matplotlib.pyplot as plt\r\n",
        "print(y_val[0,:])\r\n",
        "plt.imshow(X_val[0,:,:,0])\r\n",
        "plt.show()"
      ],
      "execution_count": 19,
      "outputs": [
        {
          "output_type": "stream",
          "text": [
            "[0. 0. 0. 0. 0. 0. 0. 0. 0. 0. 0. 0. 0. 0. 0. 0. 0. 0. 0. 0. 0. 0. 0. 0.\n",
            " 1. 0. 0. 0. 0. 0.]\n"
          ],
          "name": "stdout"
        },
        {
          "output_type": "display_data",
          "data": {
            "image/png": "[encoded data removed]",
            "text/plain": [
              "<Figure size 432x288 with 1 Axes>"
            ]
          },
          "metadata": {
            "tags": [],
            "image/png": {
              "width": 251,
              "height": 250
            },
            "needs_background": "light"
          }
        }
      ]
    },
    {
      "cell_type": "code",
      "metadata": {
        "id": "dG3_PtyYMwNQ"
      },
      "source": [
        "import seaborn as sns"
      ],
      "execution_count": 20,
      "outputs": []
    },
    {
      "cell_type": "code",
      "metadata": {
        "id": "KrJCoDPOMoOZ",
        "colab": {
          "base_uri": "https://localhost:8080/"
        },
        "outputId": "ee0618d6-e27b-4af4-9d37-db764915eb01"
      },
      "source": [
        "\n",
        "valid = pd.read_csv('./input_my/res.csv',nrows = ims_per_class*3) ##### ./input/valid.csv #### res\n",
        "Y_train = valid[\"word\"]\n",
        "Y_train.value_counts()"
      ],
      "execution_count": 21,
      "outputs": [
        {
          "output_type": "execute_result",
          "data": {
            "text/plain": [
              "chair               32\n",
              "hat                 29\n",
              "hand                28\n",
              "hamburger           23\n",
              "diamond             22\n",
              "tree                20\n",
              "sword               20\n",
              "shoe                19\n",
              "bicycle             19\n",
              "bird                19\n",
              "guitar              18\n",
              "cake                18\n",
              "The Eiffel Tower    17\n",
              "rabbit              17\n",
              "bee                 16\n",
              "ear                 16\n",
              "leaf                15\n",
              "clock               14\n",
              "airplane            14\n",
              "lion                13\n",
              "pencil              13\n",
              "star                13\n",
              "butterfly           13\n",
              "door                12\n",
              "ladder              12\n",
              "scissors            11\n",
              "camera              11\n",
              "hammer              10\n",
              "computer             8\n",
              "cat                  8\n",
              "Name: word, dtype: int64"
            ]
          },
          "metadata": {
            "tags": []
          },
          "execution_count": 21
        }
      ]
    },
    {
      "cell_type": "code",
      "metadata": {
        "id": "wq3nOu4CxBkA",
        "colab": {
          "base_uri": "https://localhost:8080/"
        },
        "outputId": "46b6aa26-8917-4ad3-f77a-ec3e01c80ed5"
      },
      "source": [
        "model = Sequential() #模型建構\n",
        "model.add(Conv2D(32, kernel_size=(3, 3), padding='same', activation='relu', input_shape=(imheight, imwidth, 1)))\n",
        "model.add(MaxPooling2D(pool_size=(2, 2)))\n",
        "model.add(Conv2D(64, kernel_size=(3, 3), padding='same', activation='relu'))\n",
        "model.add(MaxPooling2D(pool_size=(2, 2)))\n",
        "model.add(Dropout(0.2))\n",
        "model.add(Flatten())\n",
        "model.add(Dense(680, activation='relu'))\n",
        "model.add(Dropout(0.5))\n",
        "model.add(Dense(num_classes, activation='softmax'))\n",
        "model.summary()\n",
        "\n",
        "\n"
      ],
      "execution_count": 22,
      "outputs": [
        {
          "output_type": "stream",
          "text": [
            "Model: \"sequential_1\"\n",
            "_________________________________________________________________\n",
            "Layer (type)                 Output Shape              Param #   \n",
            "=================================================================\n",
            "conv2d_2 (Conv2D)            (None, 64, 64, 32)        320       \n",
            "_________________________________________________________________\n",
            "max_pooling2d_2 (MaxPooling2 (None, 32, 32, 32)        0         \n",
            "_________________________________________________________________\n",
            "conv2d_3 (Conv2D)            (None, 32, 32, 64)        18496     \n",
            "_________________________________________________________________\n",
            "max_pooling2d_3 (MaxPooling2 (None, 16, 16, 64)        0         \n",
            "_________________________________________________________________\n",
            "dropout_2 (Dropout)          (None, 16, 16, 64)        0         \n",
            "_________________________________________________________________\n",
            "flatten_1 (Flatten)          (None, 16384)             0         \n",
            "_________________________________________________________________\n",
            "dense_2 (Dense)              (None, 680)               11141800  \n",
            "_________________________________________________________________\n",
            "dropout_3 (Dropout)          (None, 680)               0         \n",
            "_________________________________________________________________\n",
            "dense_3 (Dense)              (None, 30)                20430     \n",
            "=================================================================\n",
            "Total params: 11,181,046\n",
            "Trainable params: 11,181,046\n",
            "Non-trainable params: 0\n",
            "_________________________________________________________________\n"
          ],
          "name": "stdout"
        }
      ]
    },
    {
      "cell_type": "code",
      "metadata": {
        "id": "wQA_TrF4xBkF"
      },
      "source": [
        "import time\n",
        "starttime = time.time()"
      ],
      "execution_count": 23,
      "outputs": []
    },
    {
      "cell_type": "code",
      "metadata": {
        "id": "knf-6ewIPbC6"
      },
      "source": [
        ""
      ],
      "execution_count": null,
      "outputs": []
    },
    {
      "cell_type": "code",
      "metadata": {
        "id": "IqA05c4uxBkJ",
        "colab": {
          "base_uri": "https://localhost:8080/",
          "height": 464
        },
        "outputId": "f7cb7399-4ceb-449d-d20f-f73a7df1b8a4"
      },
      "source": [
        "def top_3_accuracy(x,y): #訓練!!!\n",
        "    t3 = top_k_categorical_accuracy(x,y, 3)\n",
        "    return t3\n",
        "\n",
        "reduceLROnPlat = ReduceLROnPlateau(monitor='val_loss', factor=0.5, patience=3, \n",
        "                                   verbose=1, mode='auto', min_delta=0.005, cooldown=5, min_lr=0.0001)\n",
        "earlystop = EarlyStopping(monitor='val_top_3_accuracy', mode='max', patience=5) \n",
        "callbacks = [reduceLROnPlat, earlystop]\n",
        "\n",
        "model.compile(loss='categorical_crossentropy',\n",
        "              optimizer='adam',\n",
        "              metrics=['accuracy', top_3_accuracy])\n",
        "\n",
        "model.fit(x=X_train, y=y_train,\n",
        "          batch_size = 32,\n",
        "          epochs = 22,\n",
        "          validation_data = (X_val, y_val),\n",
        "          callbacks = callbacks,\n",
        "          verbose = 1)\n",
        "endtime = time.time()"
      ],
      "execution_count": 24,
      "outputs": [
        {
          "output_type": "stream",
          "text": [
            "Epoch 1/22\n",
            "2813/2813 [==============================] - 23s 6ms/step - loss: 1.3940 - accuracy: 0.6117 - top_3_accuracy: 0.7729 - val_loss: 0.4520 - val_accuracy: 0.8640 - val_top_3_accuracy: 0.9580\n",
            "Epoch 2/22\n",
            "1901/2813 [===================>..........] - ETA: 5s - loss: 0.4948 - accuracy: 0.8537 - top_3_accuracy: 0.9547"
          ],
          "name": "stdout"
        },
        {
          "output_type": "error",
          "ename": "KeyboardInterrupt",
          "evalue": "ignored",
          "traceback": [
            "\u001b[0;31m---------------------------------------------------------------------------\u001b[0m",
            "\u001b[0;31mKeyboardInterrupt\u001b[0m                         Traceback (most recent call last)",
            "\u001b[0;32m<ipython-input-24-49ba2cbce088>\u001b[0m in \u001b[0;36m<module>\u001b[0;34m()\u001b[0m\n\u001b[1;32m     17\u001b[0m           \u001b[0mvalidation_data\u001b[0m \u001b[0;34m=\u001b[0m \u001b[0;34m(\u001b[0m\u001b[0mX_val\u001b[0m\u001b[0;34m,\u001b[0m \u001b[0my_val\u001b[0m\u001b[0;34m)\u001b[0m\u001b[0;34m,\u001b[0m\u001b[0;34m\u001b[0m\u001b[0;34m\u001b[0m\u001b[0m\n\u001b[1;32m     18\u001b[0m           \u001b[0mcallbacks\u001b[0m \u001b[0;34m=\u001b[0m \u001b[0mcallbacks\u001b[0m\u001b[0;34m,\u001b[0m\u001b[0;34m\u001b[0m\u001b[0;34m\u001b[0m\u001b[0m\n\u001b[0;32m---> 19\u001b[0;31m           verbose = 1)\n\u001b[0m\u001b[1;32m     20\u001b[0m \u001b[0mendtime\u001b[0m \u001b[0;34m=\u001b[0m \u001b[0mtime\u001b[0m\u001b[0;34m.\u001b[0m\u001b[0mtime\u001b[0m\u001b[0;34m(\u001b[0m\u001b[0;34m)\u001b[0m\u001b[0;34m\u001b[0m\u001b[0;34m\u001b[0m\u001b[0m\n",
            "\u001b[0;32m/usr/local/lib/python3.6/dist-packages/tensorflow/python/keras/engine/training.py\u001b[0m in \u001b[0;36mfit\u001b[0;34m(self, x, y, batch_size, epochs, verbose, callbacks, validation_split, validation_data, shuffle, class_weight, sample_weight, initial_epoch, steps_per_epoch, validation_steps, validation_batch_size, validation_freq, max_queue_size, workers, use_multiprocessing)\u001b[0m\n\u001b[1;32m   1098\u001b[0m                 _r=1):\n\u001b[1;32m   1099\u001b[0m               \u001b[0mcallbacks\u001b[0m\u001b[0;34m.\u001b[0m\u001b[0mon_train_batch_begin\u001b[0m\u001b[0;34m(\u001b[0m\u001b[0mstep\u001b[0m\u001b[0;34m)\u001b[0m\u001b[0;34m\u001b[0m\u001b[0;34m\u001b[0m\u001b[0m\n\u001b[0;32m-> 1100\u001b[0;31m               \u001b[0mtmp_logs\u001b[0m \u001b[0;34m=\u001b[0m \u001b[0mself\u001b[0m\u001b[0;34m.\u001b[0m\u001b[0mtrain_function\u001b[0m\u001b[0;34m(\u001b[0m\u001b[0miterator\u001b[0m\u001b[0;34m)\u001b[0m\u001b[0;34m\u001b[0m\u001b[0;34m\u001b[0m\u001b[0m\n\u001b[0m\u001b[1;32m   1101\u001b[0m               \u001b[0;32mif\u001b[0m \u001b[0mdata_handler\u001b[0m\u001b[0;34m.\u001b[0m\u001b[0mshould_sync\u001b[0m\u001b[0;34m:\u001b[0m\u001b[0;34m\u001b[0m\u001b[0;34m\u001b[0m\u001b[0m\n\u001b[1;32m   1102\u001b[0m                 \u001b[0mcontext\u001b[0m\u001b[0;34m.\u001b[0m\u001b[0masync_wait\u001b[0m\u001b[0;34m(\u001b[0m\u001b[0;34m)\u001b[0m\u001b[0;34m\u001b[0m\u001b[0;34m\u001b[0m\u001b[0m\n",
            "\u001b[0;32m/usr/local/lib/python3.6/dist-packages/tensorflow/python/eager/def_function.py\u001b[0m in \u001b[0;36m__call__\u001b[0;34m(self, *args, **kwds)\u001b[0m\n\u001b[1;32m    826\u001b[0m     \u001b[0mtracing_count\u001b[0m \u001b[0;34m=\u001b[0m \u001b[0mself\u001b[0m\u001b[0;34m.\u001b[0m\u001b[0mexperimental_get_tracing_count\u001b[0m\u001b[0;34m(\u001b[0m\u001b[0;34m)\u001b[0m\u001b[0;34m\u001b[0m\u001b[0;34m\u001b[0m\u001b[0m\n\u001b[1;32m    827\u001b[0m     \u001b[0;32mwith\u001b[0m \u001b[0mtrace\u001b[0m\u001b[0;34m.\u001b[0m\u001b[0mTrace\u001b[0m\u001b[0;34m(\u001b[0m\u001b[0mself\u001b[0m\u001b[0;34m.\u001b[0m\u001b[0m_name\u001b[0m\u001b[0;34m)\u001b[0m \u001b[0;32mas\u001b[0m \u001b[0mtm\u001b[0m\u001b[0;34m:\u001b[0m\u001b[0;34m\u001b[0m\u001b[0;34m\u001b[0m\u001b[0m\n\u001b[0;32m--> 828\u001b[0;31m       \u001b[0mresult\u001b[0m \u001b[0;34m=\u001b[0m \u001b[0mself\u001b[0m\u001b[0;34m.\u001b[0m\u001b[0m_call\u001b[0m\u001b[0;34m(\u001b[0m\u001b[0;34m*\u001b[0m\u001b[0margs\u001b[0m\u001b[0;34m,\u001b[0m \u001b[0;34m**\u001b[0m\u001b[0mkwds\u001b[0m\u001b[0;34m)\u001b[0m\u001b[0;34m\u001b[0m\u001b[0;34m\u001b[0m\u001b[0m\n\u001b[0m\u001b[1;32m    829\u001b[0m       \u001b[0mcompiler\u001b[0m \u001b[0;34m=\u001b[0m \u001b[0;34m\"xla\"\u001b[0m \u001b[0;32mif\u001b[0m \u001b[0mself\u001b[0m\u001b[0;34m.\u001b[0m\u001b[0m_experimental_compile\u001b[0m \u001b[0;32melse\u001b[0m \u001b[0;34m\"nonXla\"\u001b[0m\u001b[0;34m\u001b[0m\u001b[0;34m\u001b[0m\u001b[0m\n\u001b[1;32m    830\u001b[0m       \u001b[0mnew_tracing_count\u001b[0m \u001b[0;34m=\u001b[0m \u001b[0mself\u001b[0m\u001b[0;34m.\u001b[0m\u001b[0mexperimental_get_tracing_count\u001b[0m\u001b[0;34m(\u001b[0m\u001b[0;34m)\u001b[0m\u001b[0;34m\u001b[0m\u001b[0;34m\u001b[0m\u001b[0m\n",
            "\u001b[0;32m/usr/local/lib/python3.6/dist-packages/tensorflow/python/eager/def_function.py\u001b[0m in \u001b[0;36m_call\u001b[0;34m(self, *args, **kwds)\u001b[0m\n\u001b[1;32m    853\u001b[0m       \u001b[0;31m# In this case we have created variables on the first call, so we run the\u001b[0m\u001b[0;34m\u001b[0m\u001b[0;34m\u001b[0m\u001b[0;34m\u001b[0m\u001b[0m\n\u001b[1;32m    854\u001b[0m       \u001b[0;31m# defunned version which is guaranteed to never create variables.\u001b[0m\u001b[0;34m\u001b[0m\u001b[0;34m\u001b[0m\u001b[0;34m\u001b[0m\u001b[0m\n\u001b[0;32m--> 855\u001b[0;31m       \u001b[0;32mreturn\u001b[0m \u001b[0mself\u001b[0m\u001b[0;34m.\u001b[0m\u001b[0m_stateless_fn\u001b[0m\u001b[0;34m(\u001b[0m\u001b[0;34m*\u001b[0m\u001b[0margs\u001b[0m\u001b[0;34m,\u001b[0m \u001b[0;34m**\u001b[0m\u001b[0mkwds\u001b[0m\u001b[0;34m)\u001b[0m  \u001b[0;31m# pylint: disable=not-callable\u001b[0m\u001b[0;34m\u001b[0m\u001b[0;34m\u001b[0m\u001b[0m\n\u001b[0m\u001b[1;32m    856\u001b[0m     \u001b[0;32melif\u001b[0m \u001b[0mself\u001b[0m\u001b[0;34m.\u001b[0m\u001b[0m_stateful_fn\u001b[0m \u001b[0;32mis\u001b[0m \u001b[0;32mnot\u001b[0m \u001b[0;32mNone\u001b[0m\u001b[0;34m:\u001b[0m\u001b[0;34m\u001b[0m\u001b[0;34m\u001b[0m\u001b[0m\n\u001b[1;32m    857\u001b[0m       \u001b[0;31m# Release the lock early so that multiple threads can perform the call\u001b[0m\u001b[0;34m\u001b[0m\u001b[0;34m\u001b[0m\u001b[0;34m\u001b[0m\u001b[0m\n",
            "\u001b[0;32m/usr/local/lib/python3.6/dist-packages/tensorflow/python/eager/function.py\u001b[0m in \u001b[0;36m__call__\u001b[0;34m(self, *args, **kwargs)\u001b[0m\n\u001b[1;32m   2941\u001b[0m        filtered_flat_args) = self._maybe_define_function(args, kwargs)\n\u001b[1;32m   2942\u001b[0m     return graph_function._call_flat(\n\u001b[0;32m-> 2943\u001b[0;31m         filtered_flat_args, captured_inputs=graph_function.captured_inputs)  # pylint: disable=protected-access\n\u001b[0m\u001b[1;32m   2944\u001b[0m \u001b[0;34m\u001b[0m\u001b[0m\n\u001b[1;32m   2945\u001b[0m   \u001b[0;34m@\u001b[0m\u001b[0mproperty\u001b[0m\u001b[0;34m\u001b[0m\u001b[0;34m\u001b[0m\u001b[0m\n",
            "\u001b[0;32m/usr/local/lib/python3.6/dist-packages/tensorflow/python/eager/function.py\u001b[0m in \u001b[0;36m_call_flat\u001b[0;34m(self, args, captured_inputs, cancellation_manager)\u001b[0m\n\u001b[1;32m   1917\u001b[0m       \u001b[0;31m# No tape is watching; skip to running the function.\u001b[0m\u001b[0;34m\u001b[0m\u001b[0;34m\u001b[0m\u001b[0;34m\u001b[0m\u001b[0m\n\u001b[1;32m   1918\u001b[0m       return self._build_call_outputs(self._inference_function.call(\n\u001b[0;32m-> 1919\u001b[0;31m           ctx, args, cancellation_manager=cancellation_manager))\n\u001b[0m\u001b[1;32m   1920\u001b[0m     forward_backward = self._select_forward_and_backward_functions(\n\u001b[1;32m   1921\u001b[0m         \u001b[0margs\u001b[0m\u001b[0;34m,\u001b[0m\u001b[0;34m\u001b[0m\u001b[0;34m\u001b[0m\u001b[0m\n",
            "\u001b[0;32m/usr/local/lib/python3.6/dist-packages/tensorflow/python/eager/function.py\u001b[0m in \u001b[0;36m_build_call_outputs\u001b[0;34m(self, result)\u001b[0m\n\u001b[1;32m   2173\u001b[0m         \u001b[0mj\u001b[0m \u001b[0;34m+=\u001b[0m \u001b[0;36m1\u001b[0m\u001b[0;34m\u001b[0m\u001b[0;34m\u001b[0m\u001b[0m\n\u001b[1;32m   2174\u001b[0m     ret = nest.pack_sequence_as(self._func_graph.structured_outputs,\n\u001b[0;32m-> 2175\u001b[0;31m                                 outputs_list, expand_composites=True)\n\u001b[0m\u001b[1;32m   2176\u001b[0m     \u001b[0;32mreturn\u001b[0m \u001b[0mret\u001b[0m\u001b[0;34m\u001b[0m\u001b[0;34m\u001b[0m\u001b[0m\n\u001b[1;32m   2177\u001b[0m \u001b[0;34m\u001b[0m\u001b[0m\n",
            "\u001b[0;32m/usr/local/lib/python3.6/dist-packages/tensorflow/python/util/nest.py\u001b[0m in \u001b[0;36mpack_sequence_as\u001b[0;34m(structure, flat_sequence, expand_composites)\u001b[0m\n\u001b[1;32m    577\u001b[0m     \u001b[0mTypeError\u001b[0m\u001b[0;34m:\u001b[0m\u001b[0;31m \u001b[0m\u001b[0;31m`\u001b[0m\u001b[0mstructure\u001b[0m\u001b[0;31m`\u001b[0m \u001b[0;32mis\u001b[0m \u001b[0;32mor\u001b[0m \u001b[0mcontains\u001b[0m \u001b[0ma\u001b[0m \u001b[0mdict\u001b[0m \u001b[0;32mwith\u001b[0m \u001b[0mnon\u001b[0m\u001b[0;34m-\u001b[0m\u001b[0msortable\u001b[0m \u001b[0mkeys\u001b[0m\u001b[0;34m.\u001b[0m\u001b[0;34m\u001b[0m\u001b[0;34m\u001b[0m\u001b[0m\n\u001b[1;32m    578\u001b[0m   \"\"\"\n\u001b[0;32m--> 579\u001b[0;31m   \u001b[0;32mreturn\u001b[0m \u001b[0m_pack_sequence_as\u001b[0m\u001b[0;34m(\u001b[0m\u001b[0mstructure\u001b[0m\u001b[0;34m,\u001b[0m \u001b[0mflat_sequence\u001b[0m\u001b[0;34m,\u001b[0m \u001b[0mexpand_composites\u001b[0m\u001b[0;34m)\u001b[0m\u001b[0;34m\u001b[0m\u001b[0;34m\u001b[0m\u001b[0m\n\u001b[0m\u001b[1;32m    580\u001b[0m \u001b[0;34m\u001b[0m\u001b[0m\n\u001b[1;32m    581\u001b[0m \u001b[0;34m\u001b[0m\u001b[0m\n",
            "\u001b[0;32m/usr/local/lib/python3.6/dist-packages/tensorflow/python/util/nest.py\u001b[0m in \u001b[0;36m_pack_sequence_as\u001b[0;34m(structure, flat_sequence, expand_composites, sequence_fn)\u001b[0m\n\u001b[1;32m    540\u001b[0m           \u001b[0;34m\"flat_sequence had %d elements.  Structure: %s, flat_sequence: %s.\"\u001b[0m \u001b[0;34m%\u001b[0m\u001b[0;34m\u001b[0m\u001b[0;34m\u001b[0m\u001b[0m\n\u001b[1;32m    541\u001b[0m           (len(flat_structure), len(flat_sequence), structure, flat_sequence))\n\u001b[0;32m--> 542\u001b[0;31m   \u001b[0;32mreturn\u001b[0m \u001b[0msequence_fn\u001b[0m\u001b[0;34m(\u001b[0m\u001b[0mstructure\u001b[0m\u001b[0;34m,\u001b[0m \u001b[0mpacked\u001b[0m\u001b[0;34m)\u001b[0m\u001b[0;34m\u001b[0m\u001b[0;34m\u001b[0m\u001b[0m\n\u001b[0m\u001b[1;32m    543\u001b[0m \u001b[0;34m\u001b[0m\u001b[0m\n\u001b[1;32m    544\u001b[0m \u001b[0;34m\u001b[0m\u001b[0m\n",
            "\u001b[0;32m/usr/local/lib/python3.6/dist-packages/tensorflow/python/util/nest.py\u001b[0m in \u001b[0;36m_sequence_like\u001b[0;34m(instance, args)\u001b[0m\n\u001b[1;32m    145\u001b[0m     \u001b[0;31m# ordered and plain dicts (e.g., flattening a dict but using a\u001b[0m\u001b[0;34m\u001b[0m\u001b[0;34m\u001b[0m\u001b[0;34m\u001b[0m\u001b[0m\n\u001b[1;32m    146\u001b[0m     \u001b[0;31m# corresponding `OrderedDict` to pack it back).\u001b[0m\u001b[0;34m\u001b[0m\u001b[0;34m\u001b[0m\u001b[0;34m\u001b[0m\u001b[0m\n\u001b[0;32m--> 147\u001b[0;31m     \u001b[0mresult\u001b[0m \u001b[0;34m=\u001b[0m \u001b[0mdict\u001b[0m\u001b[0;34m(\u001b[0m\u001b[0mzip\u001b[0m\u001b[0;34m(\u001b[0m\u001b[0m_sorted\u001b[0m\u001b[0;34m(\u001b[0m\u001b[0minstance\u001b[0m\u001b[0;34m)\u001b[0m\u001b[0;34m,\u001b[0m \u001b[0margs\u001b[0m\u001b[0;34m)\u001b[0m\u001b[0;34m)\u001b[0m\u001b[0;34m\u001b[0m\u001b[0;34m\u001b[0m\u001b[0m\n\u001b[0m\u001b[1;32m    148\u001b[0m     \u001b[0minstance_type\u001b[0m \u001b[0;34m=\u001b[0m \u001b[0mtype\u001b[0m\u001b[0;34m(\u001b[0m\u001b[0minstance\u001b[0m\u001b[0;34m)\u001b[0m\u001b[0;34m\u001b[0m\u001b[0;34m\u001b[0m\u001b[0m\n\u001b[1;32m    149\u001b[0m     \u001b[0;32mif\u001b[0m \u001b[0minstance_type\u001b[0m \u001b[0;34m==\u001b[0m \u001b[0m_collections\u001b[0m\u001b[0;34m.\u001b[0m\u001b[0mdefaultdict\u001b[0m\u001b[0;34m:\u001b[0m\u001b[0;34m\u001b[0m\u001b[0;34m\u001b[0m\u001b[0m\n",
            "\u001b[0;31mKeyboardInterrupt\u001b[0m: "
          ]
        }
      ]
    },
    {
      "cell_type": "markdown",
      "metadata": {
        "id": "C4y4qDFxxBkg"
      },
      "source": [
        "## Preprocessing the generating data and predict"
      ]
    },
    {
      "cell_type": "markdown",
      "metadata": {
        "id": "HixxJ4iDxBko"
      },
      "source": [
        "## Save model"
      ]
    },
    {
      "cell_type": "code",
      "metadata": {
        "id": "ke4zhvIUxBkq"
      },
      "source": [
        "model.save('my_model_1219.h5')"
      ],
      "execution_count": null,
      "outputs": []
    },
    {
      "cell_type": "markdown",
      "metadata": {
        "_uuid": "8dd9622a3f004ecc4b422d39dacd5f1f3302396a",
        "id": "yt-oz7-WxBk_"
      },
      "source": [
        "## Making a Submission"
      ]
    },
    {
      "cell_type": "code",
      "metadata": {
        "_uuid": "3d52b0bd272556f6da8f021b19350b7b050a249c",
        "id": "Y6CZG6WaxBlB"
      },
      "source": [
        "test = pd.read_csv('./input_my/test_ans.csv')[['drawing']]  #預測test檔案\n",
        "imagebag = bag.from_sequence(test.drawing.values).map(draw_it)\n",
        "testarray = np.array(imagebag.compute())\n",
        "testarray = np.reshape(testarray, (testarray.shape[0], imheight, imwidth, 1))\n",
        "testpreds = model.predict(testarray, verbose=0)\n",
        "ttvs = np.argsort(-testpreds)\n",
        "\n",
        "\n",
        "\n",
        "predict_label = [numstonames[ttvs[i][0]] for i in range(ttvs.shape[0])]\n",
        "\n",
        "test['word'] = predict_label\n",
        "test.to_csv('test_predict.csv')"
      ],
      "execution_count": 25,
      "outputs": []
    },
    {
      "cell_type": "code",
      "metadata": {
        "id": "iUS8EnTTdVDH",
        "colab": {
          "base_uri": "https://localhost:8080/"
        },
        "outputId": "0b437a30-6ac7-42d3-c701-236d1c233150"
      },
      "source": [
        "predict_label"
      ],
      "execution_count": 26,
      "outputs": [
        {
          "output_type": "execute_result",
          "data": {
            "text/plain": [
              "['ladder',\n",
              " 'airplane',\n",
              " 'rabbit',\n",
              " 'hat',\n",
              " 'hat',\n",
              " 'shoe',\n",
              " 'door',\n",
              " 'leaf',\n",
              " 'hand',\n",
              " 'diamond',\n",
              " 'ear',\n",
              " 'ear',\n",
              " 'tree',\n",
              " 'airplane',\n",
              " 'chair',\n",
              " 'tree',\n",
              " 'clock',\n",
              " 'butterfly',\n",
              " 'sword',\n",
              " 'ear',\n",
              " 'ear',\n",
              " 'hammer',\n",
              " 'hat',\n",
              " 'clock',\n",
              " 'butterfly',\n",
              " 'diamond',\n",
              " 'hat',\n",
              " 'hamburger',\n",
              " 'The_Eiffel_Tower',\n",
              " 'ear',\n",
              " 'clock',\n",
              " 'cat',\n",
              " 'guitar',\n",
              " 'bicycle',\n",
              " 'hat',\n",
              " 'lion',\n",
              " 'sword',\n",
              " 'chair',\n",
              " 'sword',\n",
              " 'clock',\n",
              " 'hamburger',\n",
              " 'butterfly',\n",
              " 'bicycle',\n",
              " 'bird',\n",
              " 'cat',\n",
              " 'hamburger',\n",
              " 'shoe',\n",
              " 'airplane',\n",
              " 'pencil',\n",
              " 'diamond',\n",
              " 'chair',\n",
              " 'hat',\n",
              " 'star',\n",
              " 'bee',\n",
              " 'camera',\n",
              " 'hat',\n",
              " 'bicycle',\n",
              " 'hammer',\n",
              " 'hat',\n",
              " 'camera',\n",
              " 'rabbit',\n",
              " 'ear',\n",
              " 'door',\n",
              " 'door',\n",
              " 'leaf',\n",
              " 'computer',\n",
              " 'hand',\n",
              " 'ear',\n",
              " 'camera',\n",
              " 'bicycle',\n",
              " 'bee',\n",
              " 'pencil',\n",
              " 'star',\n",
              " 'hat',\n",
              " 'hand',\n",
              " 'ear',\n",
              " 'chair',\n",
              " 'The_Eiffel_Tower',\n",
              " 'bird',\n",
              " 'bird',\n",
              " 'camera',\n",
              " 'cake',\n",
              " 'chair',\n",
              " 'rabbit',\n",
              " 'hamburger',\n",
              " 'pencil',\n",
              " 'clock',\n",
              " 'butterfly',\n",
              " 'camera',\n",
              " 'butterfly',\n",
              " 'door',\n",
              " 'door',\n",
              " 'clock',\n",
              " 'ear',\n",
              " 'cat',\n",
              " 'hammer',\n",
              " 'sword',\n",
              " 'scissors',\n",
              " 'The_Eiffel_Tower',\n",
              " 'The_Eiffel_Tower',\n",
              " 'camera',\n",
              " 'hand',\n",
              " 'diamond',\n",
              " 'clock',\n",
              " 'butterfly',\n",
              " 'rabbit',\n",
              " 'hat',\n",
              " 'diamond',\n",
              " 'cat',\n",
              " 'guitar',\n",
              " 'ladder',\n",
              " 'hamburger',\n",
              " 'ear',\n",
              " 'chair',\n",
              " 'bird',\n",
              " 'lion',\n",
              " 'hand',\n",
              " 'star',\n",
              " 'hand',\n",
              " 'ear',\n",
              " 'The_Eiffel_Tower',\n",
              " 'leaf',\n",
              " 'shoe',\n",
              " 'butterfly',\n",
              " 'bee',\n",
              " 'hand',\n",
              " 'ladder',\n",
              " 'clock',\n",
              " 'ear',\n",
              " 'camera',\n",
              " 'rabbit',\n",
              " 'hand',\n",
              " 'airplane',\n",
              " 'shoe',\n",
              " 'airplane',\n",
              " 'camera',\n",
              " 'star',\n",
              " 'guitar',\n",
              " 'hat',\n",
              " 'shoe',\n",
              " 'lion',\n",
              " 'cat',\n",
              " 'sword',\n",
              " 'tree',\n",
              " 'pencil',\n",
              " 'hand',\n",
              " 'bicycle',\n",
              " 'star',\n",
              " 'hand',\n",
              " 'rabbit',\n",
              " 'hand',\n",
              " 'airplane',\n",
              " 'pencil',\n",
              " 'diamond',\n",
              " 'shoe',\n",
              " 'scissors',\n",
              " 'sword',\n",
              " 'hammer',\n",
              " 'airplane',\n",
              " 'pencil',\n",
              " 'computer',\n",
              " 'computer',\n",
              " 'hand',\n",
              " 'hammer',\n",
              " 'hat',\n",
              " 'diamond',\n",
              " 'hat',\n",
              " 'star',\n",
              " 'hat',\n",
              " 'clock',\n",
              " 'hamburger',\n",
              " 'ladder',\n",
              " 'butterfly',\n",
              " 'chair',\n",
              " 'hammer',\n",
              " 'lion',\n",
              " 'ladder',\n",
              " 'pencil',\n",
              " 'door',\n",
              " 'shoe',\n",
              " 'The_Eiffel_Tower',\n",
              " 'leaf',\n",
              " 'clock',\n",
              " 'hammer',\n",
              " 'camera',\n",
              " 'camera',\n",
              " 'scissors',\n",
              " 'lion',\n",
              " 'tree',\n",
              " 'hammer',\n",
              " 'butterfly',\n",
              " 'rabbit',\n",
              " 'tree',\n",
              " 'scissors',\n",
              " 'hand',\n",
              " 'camera',\n",
              " 'sword',\n",
              " 'rabbit',\n",
              " 'shoe',\n",
              " 'door']"
            ]
          },
          "metadata": {
            "tags": []
          },
          "execution_count": 26
        }
      ]
    },
    {
      "cell_type": "code",
      "metadata": {
        "_uuid": "b05834b538958d2fa4d32e4e77f09473b81804b1",
        "id": "nGpqtxe9xBlF",
        "colab": {
          "base_uri": "https://localhost:8080/"
        },
        "outputId": "c760c688-90c7-4564-bcb4-1062acea2811"
      },
      "source": [
        "test = pd.read_csv('./input_my/test_ans.csv')[['word']] #評估test檔案結果\n",
        "count = 0\n",
        "hit = 0\n",
        "for i in range(len(test['word'])):\n",
        "  count +=1\n",
        "  if test['word'][i] == predict_label[i]:\n",
        "    hit +=1\n",
        "print(\"hit rate = %d/%d\"%(hit,count))"
      ],
      "execution_count": 27,
      "outputs": [
        {
          "output_type": "stream",
          "text": [
            "hit rate = 170/200\n"
          ],
          "name": "stdout"
        }
      ]
    },
    {
      "cell_type": "code",
      "metadata": {
        "colab": {
          "base_uri": "https://localhost:8080/"
        },
        "id": "QPcAzT8BxG5_",
        "outputId": "708f5bed-51df-4150-b8b9-26bd00c8d46e"
      },
      "source": [
        "182/200"
      ],
      "execution_count": null,
      "outputs": [
        {
          "output_type": "execute_result",
          "data": {
            "text/plain": [
              "0.91"
            ]
          },
          "metadata": {
            "tags": []
          },
          "execution_count": 38
        }
      ]
    },
    {
      "cell_type": "code",
      "metadata": {
        "id": "_412iFR1xJW2"
      },
      "source": [
        "test = pd.read_csv('./input_my/exam.csv')[['drawing']]  #做出exam預測\r\n",
        "imagebag = bag.from_sequence(test.drawing.values).map(draw_it)\r\n",
        "testarray = np.array(imagebag.compute())\r\n",
        "testarray = np.reshape(testarray, (testarray.shape[0], imheight, imwidth, 1))\r\n",
        "testpreds = model.predict(testarray, verbose=0)\r\n",
        "ttvs = np.argsort(-testpreds)\r\n",
        "\r\n",
        "\r\n",
        "\r\n",
        "predict_label = [numstonames[ttvs[i][0]] for i in range(ttvs.shape[0])]\r\n",
        "\r\n",
        "test['word'] = predict_label\r\n",
        "test.to_csv('exam_predict.csv')"
      ],
      "execution_count": null,
      "outputs": []
    }
  ]
}